{
 "cells": [
  {
   "cell_type": "code",
   "execution_count": 23,
   "metadata": {},
   "outputs": [],
   "source": [
    "import pandas as pd\n",
    "import numpy as np\n",
    "import matplotlib.pyplot as plt\n",
    "import torch\n",
    "import torch.nn as nn\n",
    "import torch.utils.data"
   ]
  },
  {
   "cell_type": "markdown",
   "metadata": {},
   "source": [
    "### Helper functions"
   ]
  },
  {
   "cell_type": "code",
   "execution_count": 24,
   "metadata": {},
   "outputs": [],
   "source": [
    "def loadData(file):\n",
    "    data = pd.read_csv(file)\n",
    "    print('Raw shape: ',data.shape)\n",
    "    data['Date'] = pd.to_datetime(data.Date)\n",
    "    print('Days: ',len(set(data.Date)))\n",
    "    return data"
   ]
  },
  {
   "cell_type": "code",
   "execution_count": 25,
   "metadata": {},
   "outputs": [],
   "source": [
    "def getTimeSeries(df):\n",
    "    table = pd.pivot_table(df, values='vehicle_count', index=['Date','Hour'],\n",
    "                    columns=['DOLocationID'], aggfunc=np.sum, fill_value=0)\n",
    "    return table"
   ]
  },
  {
   "cell_type": "code",
   "execution_count": 26,
   "metadata": {},
   "outputs": [],
   "source": [
    "class autoencoder(nn.Module):\n",
    "    def __init__(self,inputD,encoding_dim):\n",
    "        super(autoencoder, self).__init__()\n",
    "        \n",
    "        self.encoder = nn.Sequential()\n",
    "        \n",
    "        self.encoder.add_module(\"enc_0\", nn.Linear(inputD,encoding_dim[0]))\n",
    "        self.encoder.add_module(\"relu_0\", nn.ReLU())\n",
    "          \n",
    "        for l in range(1,len(encoding_dim)):\n",
    "            self.encoder.add_module(\"enc_\"+str(l), nn.Linear(encoding_dim[l-1],encoding_dim[l]))\n",
    "            self.encoder.add_module(\"encBn_\"+str(l),nn.BatchNorm1d(encoding_dim[l]))\n",
    "            self.encoder.add_module(\"encrelu_\"+str(l), nn.ReLU())\n",
    "                                    \n",
    "        self.decoder = nn.Sequential()\n",
    "        \n",
    "        for l in range(len(encoding_dim)-1,0,-1):\n",
    "            self.decoder.add_module(\"dec_\"+str(l), nn.Linear(encoding_dim[l],encoding_dim[l-1]))\n",
    "            self.decoder.add_module(\"decBn_\"+str(l),nn.BatchNorm1d(encoding_dim[l-1]))\n",
    "            self.decoder.add_module(\"decrelu_\"+str(l), nn.ReLU())\n",
    "            \n",
    "        self.decoder.add_module(\"dec_0\", nn.Linear(encoding_dim[0],inputD))\n",
    "        self.decoder.add_module(\"decrelu_0\", nn.Sigmoid())\n",
    "        \n",
    "        self.encoder.apply(self.init_weights)\n",
    "        self.decoder.apply(self.init_weights)\n",
    "\n",
    "    def forward(self, x):\n",
    "        x = self.encoder(x)\n",
    "        x = self.decoder(x)\n",
    "        return x\n",
    "    \n",
    "    def init_weights(self,m):\n",
    "        if type(m) == nn.Linear:\n",
    "            nn.init.xavier_uniform_(m.weight)\n",
    "            m.bias.data.fill_(0.01)\n",
    "    \n",
    "    def representation(self, x):\n",
    "        x = self.encoder(x)\n",
    "        return x"
   ]
  },
  {
   "cell_type": "code",
   "execution_count": 27,
   "metadata": {},
   "outputs": [],
   "source": [
    "def gridSearchAutoEncoderDim(matrix, encoding_dim, components):\n",
    "    rmse = []\n",
    "    learning_rate=0.0001\n",
    "    batch_size = 100\n",
    "    num_epochs = 50\n",
    "    for n in component:\n",
    "        print(n)\n",
    "        encodingDim = encoding_dim + [n]\n",
    "        matrixtensor = torch.tensor(matrix).float()\n",
    "\n",
    "        input_dim = matrix.shape[1]\n",
    "        model = autoencoder(input_dim,encodingDim).cuda()\n",
    "\n",
    "        criterion = nn.BCELoss()\n",
    "        optimizer = torch.optim.Adam(model.parameters(), lr=learning_rate, weight_decay=1e-5)\n",
    "\n",
    "        data_tensor = torch.utils.data.TensorDataset(matrixtensor, matrixtensor) \n",
    "        dataloader = torch.utils.data.DataLoader(dataset = data_tensor, batch_size = batch_size, shuffle = True)\n",
    "\n",
    "        for epoch in range(num_epochs):\n",
    "            for data in dataloader:\n",
    "                X, _ = data\n",
    "                X = X.cuda()\n",
    "                # ===================forward=====================\n",
    "                output = model(X)\n",
    "                loss = criterion(output, X)\n",
    "                MSE_loss = nn.MSELoss()(output, X)\n",
    "                # ===================backward====================\n",
    "                optimizer.zero_grad()\n",
    "                loss.backward()\n",
    "                optimizer.step()\n",
    "            # ===================log========================\n",
    "    #         print('epoch [{}/{}], loss:{:.4f}, MSE_loss:{:.4f}'\n",
    "    #             .format(epoch + 1, num_epochs, loss.item(), MSE_loss.item()))   \n",
    "\n",
    "        with torch.no_grad():\n",
    "            reconMatrixAE = model(matrixtensor.cuda()).cpu().numpy()\n",
    "        reconCostAE = np.mean(np.power(reconMatrixAE - matrix,2))\n",
    "        reconCostAE = np.power(reconCostAE,0.5)\n",
    "        rmse.append(reconCostAE)\n",
    "        print(reconCostAE)\n",
    "\n",
    "    \n",
    "    plt.plot(component,rmse)"
   ]
  },
  {
   "cell_type": "markdown",
   "metadata": {},
   "source": [
    "#### preparing Data"
   ]
  },
  {
   "cell_type": "code",
   "execution_count": 28,
   "metadata": {},
   "outputs": [],
   "source": [
    "file = '/home/urwa/Documents/Projects/NYU Remote/project/JfkVehiceByHour.csv'"
   ]
  },
  {
   "cell_type": "code",
   "execution_count": 29,
   "metadata": {},
   "outputs": [
    {
     "name": "stdout",
     "output_type": "stream",
     "text": [
      "Raw shape:  (4520160, 4)\n",
      "Days:  730\n"
     ]
    }
   ],
   "source": [
    "dataDf = loadData(file)"
   ]
  },
  {
   "cell_type": "code",
   "execution_count": 30,
   "metadata": {},
   "outputs": [],
   "source": [
    "dataDf = getTimeSeries(dataDf)"
   ]
  },
  {
   "cell_type": "code",
   "execution_count": 9,
   "metadata": {},
   "outputs": [],
   "source": [
    "matrix = dataDf.values"
   ]
  },
  {
   "cell_type": "code",
   "execution_count": 10,
   "metadata": {},
   "outputs": [],
   "source": [
    "#min max normalization\n",
    "for i in range(matrix.shape[1]):\n",
    "    matrix[:, i] = (matrix[:, i] - matrix[:, i].min()) / (matrix[:, i].max() - matrix[:, i].min())"
   ]
  },
  {
   "cell_type": "code",
   "execution_count": 11,
   "metadata": {},
   "outputs": [
    {
     "data": {
      "text/plain": [
       "(17520, 258)"
      ]
     },
     "execution_count": 11,
     "metadata": {},
     "output_type": "execute_result"
    }
   ],
   "source": [
    "matrix.shape"
   ]
  },
  {
   "cell_type": "markdown",
   "metadata": {},
   "source": [
    "#### Selecting representation dimensions"
   ]
  },
  {
   "cell_type": "code",
   "execution_count": 12,
   "metadata": {},
   "outputs": [
    {
     "data": {
      "text/plain": [
       "0.00020972708930657322"
      ]
     },
     "execution_count": 12,
     "metadata": {},
     "output_type": "execute_result"
    }
   ],
   "source": [
    "matrix.mean()"
   ]
  },
  {
   "cell_type": "code",
   "execution_count": 13,
   "metadata": {},
   "outputs": [
    {
     "name": "stdout",
     "output_type": "stream",
     "text": [
      "5\n",
      "0.012939884077540247\n",
      "10\n",
      "0.012069447879419697\n",
      "15\n",
      "0.011794802736624989\n",
      "20\n",
      "0.011073393135041666\n",
      "25\n",
      "0.01049915995159567\n",
      "30\n",
      "0.010524629193531877\n",
      "35\n",
      "0.012087254167287665\n",
      "40\n",
      "0.010535476802746947\n",
      "45\n",
      "0.010613046199303413\n"
     ]
    },
    {
     "data": {
      "image/png": "[encoded data removed]",
      "text/plain": [
       "<Figure size 432x288 with 1 Axes>"
      ]
     },
     "metadata": {
      "needs_background": "light"
     },
     "output_type": "display_data"
    }
   ],
   "source": [
    "component = list(range(5,50,5))\n",
    "encoding_dim = [100]\n",
    "gridSearchAutoEncoderDim(matrix, encoding_dim, component)"
   ]
  },
  {
   "cell_type": "markdown",
   "metadata": {},
   "source": [
    "#### Geting 10 dim representation space"
   ]
  },
  {
   "cell_type": "code",
   "execution_count": 14,
   "metadata": {},
   "outputs": [],
   "source": [
    "learning_rate=0.0001\n",
    "batch_size = 100\n",
    "num_epochs = 100\n",
    "encodingDim = [100,10]\n",
    "matrixtensor = torch.tensor(matrix).float()\n",
    "\n",
    "input_dim = matrix.shape[1]\n",
    "model = autoencoder(input_dim,encodingDim).cuda()\n",
    "\n",
    "criterion = nn.BCELoss()\n",
    "optimizer = torch.optim.Adam(model.parameters(), lr=learning_rate, weight_decay=1e-5)\n",
    "\n",
    "data_tensor = torch.utils.data.TensorDataset(matrixtensor, matrixtensor) \n",
    "dataloader = torch.utils.data.DataLoader(dataset = data_tensor, batch_size = batch_size, shuffle = True)\n",
    "\n",
    "for epoch in range(num_epochs):\n",
    "    for data in dataloader:\n",
    "        X, _ = data\n",
    "        X = X.cuda()\n",
    "        # ===================forward=====================\n",
    "        output = model(X)\n",
    "        loss = criterion(output, X)\n",
    "        MSE_loss = nn.MSELoss()(output, X)\n",
    "        # ===================backward====================\n",
    "        optimizer.zero_grad()\n",
    "        loss.backward()\n",
    "        optimizer.step()\n",
    "    # ===================log========================\n",
    "#         print('epoch [{}/{}], loss:{:.4f}, MSE_loss:{:.4f}'\n",
    "#             .format(epoch + 1, num_epochs, loss.item(), MSE_loss.item()))   \n"
   ]
  },
  {
   "cell_type": "code",
   "execution_count": 17,
   "metadata": {},
   "outputs": [
    {
     "data": {
      "text/plain": [
       "(17520, 10)"
      ]
     },
     "execution_count": 17,
     "metadata": {},
     "output_type": "execute_result"
    }
   ],
   "source": [
    "with torch.no_grad():\n",
    "    reconMatrixAE = model.representation(matrixtensor.cuda()).cpu().numpy()\n",
    "reconMatrixAE.shape"
   ]
  },
  {
   "cell_type": "code",
   "execution_count": 31,
   "metadata": {},
   "outputs": [],
   "source": [
    "reducedDict = {str(i+1):reconMatrixAE[:,i] for i in range(reconMatrixAE.shape[1])}\n",
    "reducedDf = pd.DataFrame(reducedDict)\n",
    "reducedDf.index = dataDf.index"
   ]
  },
  {
   "cell_type": "code",
   "execution_count": 32,
   "metadata": {},
   "outputs": [
    {
     "data": {
      "text/plain": [
       "(17520, 10)"
      ]
     },
     "execution_count": 32,
     "metadata": {},
     "output_type": "execute_result"
    }
   ],
   "source": [
    "reducedDf.shape"
   ]
  },
  {
   "cell_type": "code",
   "execution_count": 33,
   "metadata": {},
   "outputs": [
    {
     "data": {
      "text/html": [
       "<div>\n",
       "<style scoped>\n",
       "    .dataframe tbody tr th:only-of-type {\n",
       "        vertical-align: middle;\n",
       "    }\n",
       "\n",
       "    .dataframe tbody tr th {\n",
       "        vertical-align: top;\n",
       "    }\n",
       "\n",
       "    .dataframe thead th {\n",
       "        text-align: right;\n",
       "    }\n",
       "</style>\n",
       "<table border=\"1\" class=\"dataframe\">\n",
       "  <thead>\n",
       "    <tr style=\"text-align: right;\">\n",
       "      <th></th>\n",
       "      <th></th>\n",
       "      <th>1</th>\n",
       "      <th>2</th>\n",
       "      <th>3</th>\n",
       "      <th>4</th>\n",
       "      <th>5</th>\n",
       "      <th>6</th>\n",
       "      <th>7</th>\n",
       "      <th>8</th>\n",
       "      <th>9</th>\n",
       "      <th>10</th>\n",
       "    </tr>\n",
       "    <tr>\n",
       "      <th>Date</th>\n",
       "      <th>Hour</th>\n",
       "      <th></th>\n",
       "      <th></th>\n",
       "      <th></th>\n",
       "      <th></th>\n",
       "      <th></th>\n",
       "      <th></th>\n",
       "      <th></th>\n",
       "      <th></th>\n",
       "      <th></th>\n",
       "      <th></th>\n",
       "    </tr>\n",
       "  </thead>\n",
       "  <tbody>\n",
       "    <tr>\n",
       "      <th rowspan=\"5\" valign=\"top\">2017-01-01</th>\n",
       "      <th>0</th>\n",
       "      <td>0.051075</td>\n",
       "      <td>0.037509</td>\n",
       "      <td>0.01015</td>\n",
       "      <td>0.0</td>\n",
       "      <td>0.0</td>\n",
       "      <td>0.154281</td>\n",
       "      <td>0.253439</td>\n",
       "      <td>0.156318</td>\n",
       "      <td>0.020118</td>\n",
       "      <td>0.269708</td>\n",
       "    </tr>\n",
       "    <tr>\n",
       "      <th>1</th>\n",
       "      <td>0.051075</td>\n",
       "      <td>0.037509</td>\n",
       "      <td>0.01015</td>\n",
       "      <td>0.0</td>\n",
       "      <td>0.0</td>\n",
       "      <td>0.154281</td>\n",
       "      <td>0.253439</td>\n",
       "      <td>0.156318</td>\n",
       "      <td>0.020118</td>\n",
       "      <td>0.269708</td>\n",
       "    </tr>\n",
       "    <tr>\n",
       "      <th>2</th>\n",
       "      <td>0.051075</td>\n",
       "      <td>0.037509</td>\n",
       "      <td>0.01015</td>\n",
       "      <td>0.0</td>\n",
       "      <td>0.0</td>\n",
       "      <td>0.154281</td>\n",
       "      <td>0.253439</td>\n",
       "      <td>0.156318</td>\n",
       "      <td>0.020118</td>\n",
       "      <td>0.269708</td>\n",
       "    </tr>\n",
       "    <tr>\n",
       "      <th>3</th>\n",
       "      <td>0.051075</td>\n",
       "      <td>0.037509</td>\n",
       "      <td>0.01015</td>\n",
       "      <td>0.0</td>\n",
       "      <td>0.0</td>\n",
       "      <td>0.154281</td>\n",
       "      <td>0.253439</td>\n",
       "      <td>0.156318</td>\n",
       "      <td>0.020118</td>\n",
       "      <td>0.269708</td>\n",
       "    </tr>\n",
       "    <tr>\n",
       "      <th>4</th>\n",
       "      <td>0.051075</td>\n",
       "      <td>0.037509</td>\n",
       "      <td>0.01015</td>\n",
       "      <td>0.0</td>\n",
       "      <td>0.0</td>\n",
       "      <td>0.154281</td>\n",
       "      <td>0.253439</td>\n",
       "      <td>0.156318</td>\n",
       "      <td>0.020118</td>\n",
       "      <td>0.269708</td>\n",
       "    </tr>\n",
       "  </tbody>\n",
       "</table>\n",
       "</div>"
      ],
      "text/plain": [
       "                        1         2        3    4    5         6         7  \\\n",
       "Date       Hour                                                              \n",
       "2017-01-01 0     0.051075  0.037509  0.01015  0.0  0.0  0.154281  0.253439   \n",
       "           1     0.051075  0.037509  0.01015  0.0  0.0  0.154281  0.253439   \n",
       "           2     0.051075  0.037509  0.01015  0.0  0.0  0.154281  0.253439   \n",
       "           3     0.051075  0.037509  0.01015  0.0  0.0  0.154281  0.253439   \n",
       "           4     0.051075  0.037509  0.01015  0.0  0.0  0.154281  0.253439   \n",
       "\n",
       "                        8         9        10  \n",
       "Date       Hour                                \n",
       "2017-01-01 0     0.156318  0.020118  0.269708  \n",
       "           1     0.156318  0.020118  0.269708  \n",
       "           2     0.156318  0.020118  0.269708  \n",
       "           3     0.156318  0.020118  0.269708  \n",
       "           4     0.156318  0.020118  0.269708  "
      ]
     },
     "execution_count": 33,
     "metadata": {},
     "output_type": "execute_result"
    }
   ],
   "source": [
    "reducedDf.head()"
   ]
  },
  {
   "cell_type": "markdown",
   "metadata": {},
   "source": [
    "#### saving results"
   ]
  },
  {
   "cell_type": "code",
   "execution_count": 34,
   "metadata": {},
   "outputs": [],
   "source": [
    "reducedDf.to_csv('AE_features.csv')"
   ]
  },
  {
   "cell_type": "code",
   "execution_count": null,
   "metadata": {},
   "outputs": [],
   "source": []
  }
 ],
 "metadata": {
  "kernelspec": {
   "display_name": "Python 3",
   "language": "python",
   "name": "python3"
  },
  "language_info": {
   "codemirror_mode": {
    "name": "ipython",
    "version": 3
   },
   "file_extension": ".py",
   "mimetype": "text/x-python",
   "name": "python",
   "nbconvert_exporter": "python",
   "pygments_lexer": "ipython3",
   "version": "3.6.6"
  }
 },
 "nbformat": 4,
 "nbformat_minor": 2
}
