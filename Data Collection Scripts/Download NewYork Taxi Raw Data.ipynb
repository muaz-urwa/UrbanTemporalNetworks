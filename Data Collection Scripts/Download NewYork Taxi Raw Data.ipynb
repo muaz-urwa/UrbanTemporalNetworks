{
 "cells": [
  {
   "cell_type": "markdown",
   "metadata": {},
   "source": [
    "### This script downloads the raw taxi and fhv ridership data from amazon storage."
   ]
  },
  {
   "cell_type": "markdown",
   "metadata": {},
   "source": [
    "### Parameters"
   ]
  },
  {
   "cell_type": "code",
   "execution_count": 4,
   "metadata": {},
   "outputs": [
    {
     "name": "stdout",
     "output_type": "stream",
     "text": [
      "Requirement already satisfied: pandas in /home/urwa/.virtualenvs/nyu/lib/python3.6/site-packages (0.25.3)\n",
      "Requirement already satisfied: pytz>=2017.2 in /home/urwa/.virtualenvs/nyu/lib/python3.6/site-packages (from pandas) (2019.3)\n",
      "Requirement already satisfied: python-dateutil>=2.6.1 in /home/urwa/.virtualenvs/nyu/lib/python3.6/site-packages (from pandas) (2.8.1)\n",
      "Requirement already satisfied: numpy>=1.13.3 in /home/urwa/.virtualenvs/nyu/lib/python3.6/site-packages (from pandas) (1.18.1)\n",
      "Requirement already satisfied: six>=1.5 in /home/urwa/.virtualenvs/nyu/lib/python3.6/site-packages (from python-dateutil>=2.6.1->pandas) (1.13.0)\n"
     ]
    }
   ],
   "source": [
    "# dependency\n",
    "! pip install pandas"
   ]
  },
  {
   "cell_type": "code",
   "execution_count": 5,
   "metadata": {},
   "outputs": [],
   "source": [
    "dataDir = '/home/urwa/Documents/projects/NYU/data/rawData'\n",
    "Years = [2018]\n",
    "Months = range(1,13)\n",
    "VehicleTypes = ['fhv', 'yellow', 'green']"
   ]
  },
  {
   "cell_type": "code",
   "execution_count": 6,
   "metadata": {},
   "outputs": [],
   "source": [
    "import pandas as pd\n",
    "import datetime\n",
    "import urllib\n",
    "import os\n",
    "import glob\n",
    "import warnings\n",
    "import time\n",
    "warnings.filterwarnings('ignore')"
   ]
  },
  {
   "cell_type": "code",
   "execution_count": 7,
   "metadata": {},
   "outputs": [],
   "source": [
    "def getUrl(cabtype,year,month):\n",
    "    baseUrl = 'https://s3.amazonaws.com/nyc-tlc/trip+data/'\n",
    "    \n",
    "    if len(str(month)) == 1:\n",
    "        fileName = '%s_tripdata_%s-0%s.csv'%(cabtype,year,month)\n",
    "    else:\n",
    "        fileName = '%s_tripdata_%s-%s.csv'%(cabtype,year,month)\n",
    "        \n",
    "    return baseUrl + fileName, fileName        "
   ]
  },
  {
   "cell_type": "code",
   "execution_count": null,
   "metadata": {},
   "outputs": [
    {
     "name": "stdout",
     "output_type": "stream",
     "text": [
      "Downloading..: fhv_tripdata_2018-01.csv\n",
      "\n",
      "Downloading..: yellow_tripdata_2018-01.csv\n",
      "\n",
      "Downloading..: green_tripdata_2018-01.csv\n",
      "\n",
      "Downloading..: fhv_tripdata_2018-02.csv\n"
     ]
    }
   ],
   "source": [
    "for year in Years:\n",
    "    for month in Months:\n",
    "        for cabtype in VehicleTypes:\n",
    "            url, fileName = getUrl(cabtype,year,month)\n",
    "            \n",
    "            print(\"Downloading..: \"+str(fileName))\n",
    "            \n",
    "            if fileName in os.listdir(dataDir):\n",
    "                print(\"file exists...\")\n",
    "                continue\n",
    "            \n",
    "            filePath = os.path.join(dataDir, fileName)\n",
    "            try:\n",
    "                urllib.request.urlretrieve(url, filePath)\n",
    "            except:\n",
    "                # if fails remove the incomplete file\n",
    "                os.remove(filePath)\n",
    "                try:\n",
    "                    # start again after a delay of 2 min\n",
    "                    time.sleep(60*2)\n",
    "                    urllib.request.urlretrieve(url, filePath)\n",
    "                except:\n",
    "                    print(\"Download this file later !!!!!!!!!!!!!\")\n",
    "                    pass\n",
    "\n",
    "            print()"
   ]
  },
  {
   "cell_type": "code",
   "execution_count": null,
   "metadata": {},
   "outputs": [],
   "source": []
  }
 ],
 "metadata": {
  "kernelspec": {
   "display_name": "Python 3",
   "language": "python",
   "name": "python3"
  },
  "language_info": {
   "codemirror_mode": {
    "name": "ipython",
    "version": 3
   },
   "file_extension": ".py",
   "mimetype": "text/x-python",
   "name": "python",
   "nbconvert_exporter": "python",
   "pygments_lexer": "ipython3",
   "version": "3.6.9"
  }
 },
 "nbformat": 4,
 "nbformat_minor": 2
}
