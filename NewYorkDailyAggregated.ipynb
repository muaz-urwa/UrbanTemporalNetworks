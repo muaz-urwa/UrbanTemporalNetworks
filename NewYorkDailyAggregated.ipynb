{
 "cells": [
  {
   "cell_type": "code",
   "execution_count": 1,
   "metadata": {},
   "outputs": [],
   "source": [
    "import pandas as pd\n",
    "import datetime\n",
    "import urllib\n",
    "import os\n",
    "import glob\n",
    "import warnings\n",
    "warnings.filterwarnings('ignore')"
   ]
  },
  {
   "cell_type": "code",
   "execution_count": 2,
   "metadata": {},
   "outputs": [],
   "source": [
    "read_path = '/Users/hemingyi/Documents/capstone/transportation/NewYork/*.csv'\n",
    "save_path = '/Users/hemingyi/Documents/capstone/transportation/NewYork/compacted/NewYork_Taxi.csv'"
   ]
  },
  {
   "cell_type": "code",
   "execution_count": 3,
   "metadata": {},
   "outputs": [
    {
     "ename": "FileNotFoundError",
     "evalue": "[Errno 2] No such file or directory: '/Users/hemingyi/Documents/capstone/transportation/NewYork'",
     "output_type": "error",
     "traceback": [
      "\u001b[0;31m---------------------------------------------------------------------------\u001b[0m",
      "\u001b[0;31mFileNotFoundError\u001b[0m                         Traceback (most recent call last)",
      "\u001b[0;32m<ipython-input-3-e46025308054>\u001b[0m in \u001b[0;36m<module>\u001b[0;34m\u001b[0m\n\u001b[0;32m----> 1\u001b[0;31m \u001b[0mos\u001b[0m\u001b[0;34m.\u001b[0m\u001b[0mlistdir\u001b[0m\u001b[0;34m(\u001b[0m\u001b[0;34m'/Users/hemingyi/Documents/capstone/transportation/NewYork'\u001b[0m\u001b[0;34m)\u001b[0m\u001b[0;34m\u001b[0m\u001b[0m\n\u001b[0m",
      "\u001b[0;31mFileNotFoundError\u001b[0m: [Errno 2] No such file or directory: '/Users/hemingyi/Documents/capstone/transportation/NewYork'"
     ]
    }
   ],
   "source": [
    "os.listdir('/Users/hemingyi/Documents/capstone/transportation/NewYork')"
   ]
  },
  {
   "cell_type": "code",
   "execution_count": 13,
   "metadata": {},
   "outputs": [
    {
     "name": "stdout",
     "output_type": "stream",
     "text": [
      "2017 12\n",
      "2018 12\n"
     ]
    }
   ],
   "source": [
    "for year in [2017,2018]:\n",
    "    for month in range(1,13):\n",
    "        for cabtype in ['fhv','yellow']:\n",
    "            if len(str(month)) == 1:\n",
    "#                 print('https://s3.amazonaws.com/nyc-tlc/trip+data/%s_tripdata_%s-0%s.csv'%(cabtype,year,month),'transportation/NewYork/%s_tripdata_%s-0%s.csv'%(cabtype,year,month))\n",
    "                if '%s_tripdata_%s-0%s.csv'%(cabtype,year,month) in os.listdir('/Users/hemingyi/Documents/capstone/transportation/NewYork'):\n",
    "                    pass\n",
    "                else:\n",
    "                    urllib.request.urlretrieve('https://s3.amazonaws.com/nyc-tlc/trip+data/%s_tripdata_%s-0%s.csv'%(cabtype,year,month),'/Users/hemingyi/Documents/capstone/transportation/NewYork/%s_tripdata_%s-0%s.csv'%(cabtype,year,month))\n",
    "            elif len(str(month)) == 2:\n",
    "                if '%s_tripdata_%s-%s.csv'%(cabtype,year,month) in os.listdir('/Users/hemingyi/Documents/capstone/transportation/NewYork'):\n",
    "                    pass\n",
    "                else:\n",
    "                    urllib.request.urlretrieve('https://s3.amazonaws.com/nyc-tlc/trip+data/%s_tripdata_%s-%s.csv'%(cabtype,year,month),'/Users/hemingyi/Documents/capstone/transportation/NewYork/%s_tripdata_%s-%s.csv'%(cabtype,year,month))\n",
    "    print(year,month)\n",
    "\n",
    "            \n",
    "            "
   ]
  },
  {
   "cell_type": "code",
   "execution_count": 14,
   "metadata": {},
   "outputs": [
    {
     "data": {
      "text/plain": [
       "['fhv_tripdata_2017-03.csv',\n",
       " 'green_tripdata_2017-08.csv',\n",
       " 'yellow_tripdata_2017-01.csv',\n",
       " 'green_tripdata_2017-09.csv',\n",
       " 'fhv_tripdata_2017-02.csv',\n",
       " 'yellow_tripdata_2017-03.csv',\n",
       " 'yellow_tripdata_2017-02.csv',\n",
       " 'fhv_tripdata_2017-01.csv',\n",
       " 'fhv_tripdata_2017-11.csv',\n",
       " 'fhv_tripdata_2017-05.csv',\n",
       " 'yellow_tripdata_2017-12.csv',\n",
       " 'yellow_tripdata_2017-06.csv',\n",
       " 'yellow_tripdata_2017-07.csv',\n",
       " 'fhv_tripdata_2017-04.csv',\n",
       " 'fhv_tripdata_2017-10.csv',\n",
       " 'fhv_tripdata_2017-06.csv',\n",
       " 'fhv_tripdata_2017-12.csv',\n",
       " 'yellow_tripdata_2017-05.csv',\n",
       " 'yellow_tripdata_2017-11.csv',\n",
       " 'yellow_tripdata_2017-10.csv',\n",
       " 'yellow_tripdata_2017-04.csv',\n",
       " 'fhv_tripdata_2017-07.csv',\n",
       " 'green_tripdata_2018-06.csv',\n",
       " 'green_tripdata_2018-12.csv',\n",
       " 'green_tripdata_2018-07.csv',\n",
       " 'green_tripdata_2018-11.csv',\n",
       " 'green_tripdata_2018-05.csv',\n",
       " 'green_tripdata_2018-04.csv',\n",
       " 'green_tripdata_2018-10.csv',\n",
       " 'yellow_tripdata_2018-08.csv',\n",
       " 'green_tripdata_2018-01.csv',\n",
       " 'yellow_tripdata_2018-09.csv',\n",
       " 'fhv_tripdata_2018-08.csv',\n",
       " 'green_tripdata_2018-03.csv',\n",
       " 'green_tripdata_2018-02.csv',\n",
       " 'fhv_tripdata_2018-09.csv',\n",
       " 'yellow_tripdata_2018-07.csv',\n",
       " 'fhv_tripdata_2018-04.csv',\n",
       " 'fhv_tripdata_2018-10.csv',\n",
       " 'fhv_tripdata_2018-11.csv',\n",
       " 'fhv_tripdata_2018-05.csv',\n",
       " 'yellow_tripdata_2018-12.csv',\n",
       " 'yellow_tripdata_2018-06.csv',\n",
       " 'yellow_tripdata_2018-10.csv',\n",
       " 'yellow_tripdata_2018-04.csv',\n",
       " 'fhv_tripdata_2018-07.csv',\n",
       " 'fhv_tripdata_2018-06.csv',\n",
       " 'fhv_tripdata_2018-12.csv',\n",
       " 'yellow_tripdata_2018-05.csv',\n",
       " 'yellow_tripdata_2018-11.csv',\n",
       " 'yellow_tripdata_2018-01.csv',\n",
       " 'green_tripdata_2018-09.csv',\n",
       " 'fhv_tripdata_2018-02.csv',\n",
       " 'fhv_tripdata_2018-03.csv',\n",
       " 'green_tripdata_2018-08.csv',\n",
       " 'yellow_tripdata_2018-02.csv',\n",
       " 'fhv_tripdata_2018-01.csv',\n",
       " 'yellow_tripdata_2018-03.csv',\n",
       " 'green_tripdata_2017-01.csv',\n",
       " 'yellow_tripdata_2017-09.csv',\n",
       " 'yellow_tripdata_2017-08.csv',\n",
       " 'green_tripdata_2017-02.csv',\n",
       " 'fhv_tripdata_2017-09.csv',\n",
       " 'fhv_tripdata_2017-08.csv',\n",
       " 'green_tripdata_2017-03.csv',\n",
       " 'green_tripdata_2017-07.csv',\n",
       " 'green_tripdata_2017-06.csv',\n",
       " 'green_tripdata_2017-12.csv',\n",
       " 'green_tripdata_2017-04.csv',\n",
       " 'green_tripdata_2017-10.csv',\n",
       " 'green_tripdata_2017-11.csv',\n",
       " 'green_tripdata_2017-05.csv']"
      ]
     },
     "execution_count": 14,
     "metadata": {},
     "output_type": "execute_result"
    }
   ],
   "source": [
    "os.listdir('/Users/hemingyi/Documents/capstone/transportation/NewYork')"
   ]
  },
  {
   "cell_type": "code",
   "execution_count": 18,
   "metadata": {},
   "outputs": [
    {
     "name": "stdout",
     "output_type": "stream",
     "text": [
      "/Users/hemingyi/Documents/capstone/transportation/NewYork/green_tripdata_2017-08.csv\n",
      "/Users/hemingyi/Documents/capstone/transportation/NewYork/yellow_tripdata_2017-01.csv\n",
      "/Users/hemingyi/Documents/capstone/transportation/NewYork/green_tripdata_2017-09.csv\n",
      "/Users/hemingyi/Documents/capstone/transportation/NewYork/fhv_tripdata_2017-02.csv\n",
      "/Users/hemingyi/Documents/capstone/transportation/NewYork/yellow_tripdata_2017-03.csv\n",
      "/Users/hemingyi/Documents/capstone/transportation/NewYork/yellow_tripdata_2017-02.csv\n",
      "/Users/hemingyi/Documents/capstone/transportation/NewYork/fhv_tripdata_2017-01.csv\n",
      "/Users/hemingyi/Documents/capstone/transportation/NewYork/fhv_tripdata_2017-11.csv\n",
      "/Users/hemingyi/Documents/capstone/transportation/NewYork/fhv_tripdata_2017-05.csv\n",
      "/Users/hemingyi/Documents/capstone/transportation/NewYork/yellow_tripdata_2017-12.csv\n",
      "/Users/hemingyi/Documents/capstone/transportation/NewYork/yellow_tripdata_2017-06.csv\n",
      "/Users/hemingyi/Documents/capstone/transportation/NewYork/yellow_tripdata_2017-07.csv\n",
      "/Users/hemingyi/Documents/capstone/transportation/NewYork/fhv_tripdata_2017-04.csv\n",
      "/Users/hemingyi/Documents/capstone/transportation/NewYork/fhv_tripdata_2017-10.csv\n",
      "/Users/hemingyi/Documents/capstone/transportation/NewYork/fhv_tripdata_2017-06.csv\n",
      "/Users/hemingyi/Documents/capstone/transportation/NewYork/fhv_tripdata_2017-12.csv\n",
      "/Users/hemingyi/Documents/capstone/transportation/NewYork/yellow_tripdata_2017-05.csv\n"
     ]
    },
    {
     "ename": "FileNotFoundError",
     "evalue": "File b'/Users/hemingyi/Documents/capstone/transportation/NewYork/yellow_tripdata_2017-05.csv' does not exist",
     "output_type": "error",
     "traceback": [
      "\u001b[0;31m---------------------------------------------------------------------------\u001b[0m",
      "\u001b[0;31mFileNotFoundError\u001b[0m                         Traceback (most recent call last)",
      "\u001b[0;32m<ipython-input-18-2d32bf93e3ed>\u001b[0m in \u001b[0;36m<module>\u001b[0;34m\u001b[0m\n\u001b[1;32m     16\u001b[0m \u001b[0;32mfor\u001b[0m \u001b[0mi\u001b[0m \u001b[0;32min\u001b[0m \u001b[0mglob\u001b[0m\u001b[0;34m.\u001b[0m\u001b[0mglob\u001b[0m\u001b[0;34m(\u001b[0m\u001b[0mread_path\u001b[0m\u001b[0;34m)\u001b[0m\u001b[0;34m[\u001b[0m\u001b[0;36m1\u001b[0m\u001b[0;34m:\u001b[0m\u001b[0;34m]\u001b[0m\u001b[0;34m:\u001b[0m\u001b[0;34m\u001b[0m\u001b[0;34m\u001b[0m\u001b[0m\n\u001b[1;32m     17\u001b[0m     \u001b[0mprint\u001b[0m\u001b[0;34m(\u001b[0m\u001b[0mi\u001b[0m\u001b[0;34m)\u001b[0m\u001b[0;34m\u001b[0m\u001b[0;34m\u001b[0m\u001b[0m\n\u001b[0;32m---> 18\u001b[0;31m     \u001b[0mdf\u001b[0m \u001b[0;34m=\u001b[0m \u001b[0mpd\u001b[0m\u001b[0;34m.\u001b[0m\u001b[0mread_csv\u001b[0m\u001b[0;34m(\u001b[0m\u001b[0mi\u001b[0m\u001b[0;34m)\u001b[0m\u001b[0;34m\u001b[0m\u001b[0;34m\u001b[0m\u001b[0m\n\u001b[0m\u001b[1;32m     19\u001b[0m     \u001b[0;32mif\u001b[0m \u001b[0mstr\u001b[0m\u001b[0;34m(\u001b[0m\u001b[0mi\u001b[0m\u001b[0;34m)\u001b[0m\u001b[0;34m.\u001b[0m\u001b[0msplit\u001b[0m\u001b[0;34m(\u001b[0m\u001b[0;34m'/'\u001b[0m\u001b[0;34m)\u001b[0m\u001b[0;34m[\u001b[0m\u001b[0;34m-\u001b[0m\u001b[0;36m1\u001b[0m\u001b[0;34m]\u001b[0m\u001b[0;34m.\u001b[0m\u001b[0msplit\u001b[0m\u001b[0;34m(\u001b[0m\u001b[0;34m'_'\u001b[0m\u001b[0;34m)\u001b[0m\u001b[0;34m[\u001b[0m\u001b[0;36m0\u001b[0m\u001b[0;34m]\u001b[0m \u001b[0;34m==\u001b[0m \u001b[0;34m'yellow'\u001b[0m\u001b[0;34m:\u001b[0m\u001b[0;34m\u001b[0m\u001b[0;34m\u001b[0m\u001b[0m\n\u001b[1;32m     20\u001b[0m \u001b[0;31m#         print('yellow')\u001b[0m\u001b[0;34m\u001b[0m\u001b[0;34m\u001b[0m\u001b[0;34m\u001b[0m\u001b[0m\n",
      "\u001b[0;32m~/anaconda3/lib/python3.7/site-packages/pandas/io/parsers.py\u001b[0m in \u001b[0;36mparser_f\u001b[0;34m(filepath_or_buffer, sep, delimiter, header, names, index_col, usecols, squeeze, prefix, mangle_dupe_cols, dtype, engine, converters, true_values, false_values, skipinitialspace, skiprows, nrows, na_values, keep_default_na, na_filter, verbose, skip_blank_lines, parse_dates, infer_datetime_format, keep_date_col, date_parser, dayfirst, iterator, chunksize, compression, thousands, decimal, lineterminator, quotechar, quoting, escapechar, comment, encoding, dialect, tupleize_cols, error_bad_lines, warn_bad_lines, skipfooter, doublequote, delim_whitespace, low_memory, memory_map, float_precision)\u001b[0m\n\u001b[1;32m    676\u001b[0m                     skip_blank_lines=skip_blank_lines)\n\u001b[1;32m    677\u001b[0m \u001b[0;34m\u001b[0m\u001b[0m\n\u001b[0;32m--> 678\u001b[0;31m         \u001b[0;32mreturn\u001b[0m \u001b[0m_read\u001b[0m\u001b[0;34m(\u001b[0m\u001b[0mfilepath_or_buffer\u001b[0m\u001b[0;34m,\u001b[0m \u001b[0mkwds\u001b[0m\u001b[0;34m)\u001b[0m\u001b[0;34m\u001b[0m\u001b[0;34m\u001b[0m\u001b[0m\n\u001b[0m\u001b[1;32m    679\u001b[0m \u001b[0;34m\u001b[0m\u001b[0m\n\u001b[1;32m    680\u001b[0m     \u001b[0mparser_f\u001b[0m\u001b[0;34m.\u001b[0m\u001b[0m__name__\u001b[0m \u001b[0;34m=\u001b[0m \u001b[0mname\u001b[0m\u001b[0;34m\u001b[0m\u001b[0;34m\u001b[0m\u001b[0m\n",
      "\u001b[0;32m~/anaconda3/lib/python3.7/site-packages/pandas/io/parsers.py\u001b[0m in \u001b[0;36m_read\u001b[0;34m(filepath_or_buffer, kwds)\u001b[0m\n\u001b[1;32m    438\u001b[0m \u001b[0;34m\u001b[0m\u001b[0m\n\u001b[1;32m    439\u001b[0m     \u001b[0;31m# Create the parser.\u001b[0m\u001b[0;34m\u001b[0m\u001b[0;34m\u001b[0m\u001b[0;34m\u001b[0m\u001b[0m\n\u001b[0;32m--> 440\u001b[0;31m     \u001b[0mparser\u001b[0m \u001b[0;34m=\u001b[0m \u001b[0mTextFileReader\u001b[0m\u001b[0;34m(\u001b[0m\u001b[0mfilepath_or_buffer\u001b[0m\u001b[0;34m,\u001b[0m \u001b[0;34m**\u001b[0m\u001b[0mkwds\u001b[0m\u001b[0;34m)\u001b[0m\u001b[0;34m\u001b[0m\u001b[0;34m\u001b[0m\u001b[0m\n\u001b[0m\u001b[1;32m    441\u001b[0m \u001b[0;34m\u001b[0m\u001b[0m\n\u001b[1;32m    442\u001b[0m     \u001b[0;32mif\u001b[0m \u001b[0mchunksize\u001b[0m \u001b[0;32mor\u001b[0m \u001b[0miterator\u001b[0m\u001b[0;34m:\u001b[0m\u001b[0;34m\u001b[0m\u001b[0;34m\u001b[0m\u001b[0m\n",
      "\u001b[0;32m~/anaconda3/lib/python3.7/site-packages/pandas/io/parsers.py\u001b[0m in \u001b[0;36m__init__\u001b[0;34m(self, f, engine, **kwds)\u001b[0m\n\u001b[1;32m    785\u001b[0m             \u001b[0mself\u001b[0m\u001b[0;34m.\u001b[0m\u001b[0moptions\u001b[0m\u001b[0;34m[\u001b[0m\u001b[0;34m'has_index_names'\u001b[0m\u001b[0;34m]\u001b[0m \u001b[0;34m=\u001b[0m \u001b[0mkwds\u001b[0m\u001b[0;34m[\u001b[0m\u001b[0;34m'has_index_names'\u001b[0m\u001b[0;34m]\u001b[0m\u001b[0;34m\u001b[0m\u001b[0;34m\u001b[0m\u001b[0m\n\u001b[1;32m    786\u001b[0m \u001b[0;34m\u001b[0m\u001b[0m\n\u001b[0;32m--> 787\u001b[0;31m         \u001b[0mself\u001b[0m\u001b[0;34m.\u001b[0m\u001b[0m_make_engine\u001b[0m\u001b[0;34m(\u001b[0m\u001b[0mself\u001b[0m\u001b[0;34m.\u001b[0m\u001b[0mengine\u001b[0m\u001b[0;34m)\u001b[0m\u001b[0;34m\u001b[0m\u001b[0;34m\u001b[0m\u001b[0m\n\u001b[0m\u001b[1;32m    788\u001b[0m \u001b[0;34m\u001b[0m\u001b[0m\n\u001b[1;32m    789\u001b[0m     \u001b[0;32mdef\u001b[0m \u001b[0mclose\u001b[0m\u001b[0;34m(\u001b[0m\u001b[0mself\u001b[0m\u001b[0;34m)\u001b[0m\u001b[0;34m:\u001b[0m\u001b[0;34m\u001b[0m\u001b[0;34m\u001b[0m\u001b[0m\n",
      "\u001b[0;32m~/anaconda3/lib/python3.7/site-packages/pandas/io/parsers.py\u001b[0m in \u001b[0;36m_make_engine\u001b[0;34m(self, engine)\u001b[0m\n\u001b[1;32m   1012\u001b[0m     \u001b[0;32mdef\u001b[0m \u001b[0m_make_engine\u001b[0m\u001b[0;34m(\u001b[0m\u001b[0mself\u001b[0m\u001b[0;34m,\u001b[0m \u001b[0mengine\u001b[0m\u001b[0;34m=\u001b[0m\u001b[0;34m'c'\u001b[0m\u001b[0;34m)\u001b[0m\u001b[0;34m:\u001b[0m\u001b[0;34m\u001b[0m\u001b[0;34m\u001b[0m\u001b[0m\n\u001b[1;32m   1013\u001b[0m         \u001b[0;32mif\u001b[0m \u001b[0mengine\u001b[0m \u001b[0;34m==\u001b[0m \u001b[0;34m'c'\u001b[0m\u001b[0;34m:\u001b[0m\u001b[0;34m\u001b[0m\u001b[0;34m\u001b[0m\u001b[0m\n\u001b[0;32m-> 1014\u001b[0;31m             \u001b[0mself\u001b[0m\u001b[0;34m.\u001b[0m\u001b[0m_engine\u001b[0m \u001b[0;34m=\u001b[0m \u001b[0mCParserWrapper\u001b[0m\u001b[0;34m(\u001b[0m\u001b[0mself\u001b[0m\u001b[0;34m.\u001b[0m\u001b[0mf\u001b[0m\u001b[0;34m,\u001b[0m \u001b[0;34m**\u001b[0m\u001b[0mself\u001b[0m\u001b[0;34m.\u001b[0m\u001b[0moptions\u001b[0m\u001b[0;34m)\u001b[0m\u001b[0;34m\u001b[0m\u001b[0;34m\u001b[0m\u001b[0m\n\u001b[0m\u001b[1;32m   1015\u001b[0m         \u001b[0;32melse\u001b[0m\u001b[0;34m:\u001b[0m\u001b[0;34m\u001b[0m\u001b[0;34m\u001b[0m\u001b[0m\n\u001b[1;32m   1016\u001b[0m             \u001b[0;32mif\u001b[0m \u001b[0mengine\u001b[0m \u001b[0;34m==\u001b[0m \u001b[0;34m'python'\u001b[0m\u001b[0;34m:\u001b[0m\u001b[0;34m\u001b[0m\u001b[0;34m\u001b[0m\u001b[0m\n",
      "\u001b[0;32m~/anaconda3/lib/python3.7/site-packages/pandas/io/parsers.py\u001b[0m in \u001b[0;36m__init__\u001b[0;34m(self, src, **kwds)\u001b[0m\n\u001b[1;32m   1706\u001b[0m         \u001b[0mkwds\u001b[0m\u001b[0;34m[\u001b[0m\u001b[0;34m'usecols'\u001b[0m\u001b[0;34m]\u001b[0m \u001b[0;34m=\u001b[0m \u001b[0mself\u001b[0m\u001b[0;34m.\u001b[0m\u001b[0musecols\u001b[0m\u001b[0;34m\u001b[0m\u001b[0;34m\u001b[0m\u001b[0m\n\u001b[1;32m   1707\u001b[0m \u001b[0;34m\u001b[0m\u001b[0m\n\u001b[0;32m-> 1708\u001b[0;31m         \u001b[0mself\u001b[0m\u001b[0;34m.\u001b[0m\u001b[0m_reader\u001b[0m \u001b[0;34m=\u001b[0m \u001b[0mparsers\u001b[0m\u001b[0;34m.\u001b[0m\u001b[0mTextReader\u001b[0m\u001b[0;34m(\u001b[0m\u001b[0msrc\u001b[0m\u001b[0;34m,\u001b[0m \u001b[0;34m**\u001b[0m\u001b[0mkwds\u001b[0m\u001b[0;34m)\u001b[0m\u001b[0;34m\u001b[0m\u001b[0;34m\u001b[0m\u001b[0m\n\u001b[0m\u001b[1;32m   1709\u001b[0m \u001b[0;34m\u001b[0m\u001b[0m\n\u001b[1;32m   1710\u001b[0m         \u001b[0mpassed_names\u001b[0m \u001b[0;34m=\u001b[0m \u001b[0mself\u001b[0m\u001b[0;34m.\u001b[0m\u001b[0mnames\u001b[0m \u001b[0;32mis\u001b[0m \u001b[0;32mNone\u001b[0m\u001b[0;34m\u001b[0m\u001b[0;34m\u001b[0m\u001b[0m\n",
      "\u001b[0;32mpandas/_libs/parsers.pyx\u001b[0m in \u001b[0;36mpandas._libs.parsers.TextReader.__cinit__\u001b[0;34m()\u001b[0m\n",
      "\u001b[0;32mpandas/_libs/parsers.pyx\u001b[0m in \u001b[0;36mpandas._libs.parsers.TextReader._setup_parser_source\u001b[0;34m()\u001b[0m\n",
      "\u001b[0;31mFileNotFoundError\u001b[0m: File b'/Users/hemingyi/Documents/capstone/transportation/NewYork/yellow_tripdata_2017-05.csv' does not exist"
     ]
    }
   ],
   "source": [
    "df = pd.read_csv(glob.glob(read_path)[0])  \n",
    "df = df.dropna(subset=['Pickup_DateTime','PUlocationID', 'DOlocationID'])\n",
    "df['PUlocationID'] = df['PUlocationID'].astype('int')\n",
    "df['DOlocationID'] = df['DOlocationID'].astype('int')\n",
    "df = df[(df['PUlocationID']!=0)&(df['DOlocationID']!=0)]\n",
    "df = df[(df['PUlocationID']!=264)&(df['DOlocationID']!=264)]\n",
    "df = df[(df['PUlocationID']!=265)&(df['DOlocationID']!=265)]\n",
    "df['Pickup_DateTime'] = pd.to_datetime(df['Pickup_DateTime'])\n",
    "df['Date'] = df['Pickup_DateTime'].dt.strftime('%m/%d/%Y')\n",
    "df['PassengerAmount'] = 1\n",
    "df.rename(columns={'PUlocationID':'PickupLocationID','DOlocationID':'DropoffLocationID'},inplace=True)\n",
    "df['flag'] = (glob.glob(read_path)[0]).split('/')[-1].split('_')[0]\n",
    "df = df[['Date','PickupLocationID','DropoffLocationID','PassengerAmount','flag']]\n",
    "df.to_csv(save_path,index=False)\n",
    "\n",
    "for i in glob.glob(read_path)[1:]:\n",
    "    print(i)\n",
    "    df = pd.read_csv(i)\n",
    "    if str(i).split('/')[-1].split('_')[0] == 'yellow':\n",
    "#         print('yellow')\n",
    "        df = df.dropna(subset=['tpep_pickup_datetime','PULocationID', 'DOLocationID'])\n",
    "        df['PULocationID'] = df['PULocationID'].astype('int')\n",
    "        df['DOLocationID'] = df['DOLocationID'].astype('int')\n",
    "        #no zone name is numbered as 0 and 264, 265 refer to NA\n",
    "        df = df[(df['PULocationID']!=0)&(df['DOLocationID']!=0)]\n",
    "        df = df[(df['PULocationID']!=264)&(df['DOLocationID']!=264)]\n",
    "        df = df[(df['PULocationID']!=265)&(df['DOLocationID']!=265)]\n",
    "        df['tpep_pickup_datetime'] = pd.to_datetime(df['tpep_pickup_datetime'])\n",
    "        df['Date'] = df['tpep_pickup_datetime'].dt.strftime('%m/%d/%Y')\n",
    "        df.rename(columns={'PULocationID':'PickupLocationID','DOLocationID':'DropoffLocationID','passenger_count':'PassengerAmount'},inplace=True)\n",
    "    elif str(i).split('/')[-1].split('_')[0] == 'green':\n",
    "#         print('green')\n",
    "        df = df.dropna(subset=['lpep_pickup_datetime','PULocationID', 'DOLocationID'])\n",
    "        df['PULocationID'] = df['PULocationID'].astype('int')\n",
    "        df['DOLocationID'] = df['DOLocationID'].astype('int')\n",
    "        df = df[(df['PULocationID']!=0)&(df['DOLocationID']!=0)]\n",
    "        df = df[(df['PULocationID']!=264)&(df['DOLocationID']!=264)]\n",
    "        df = df[(df['PULocationID']!=265)&(df['DOLocationID']!=265)]\n",
    "        df['lpep_pickup_datetime'] = pd.to_datetime(df['lpep_pickup_datetime'])\n",
    "        df['Date'] = df['lpep_pickup_datetime'].dt.strftime('%m/%d/%Y')\n",
    "        df.rename(columns={'PULocationID':'PickupLocationID','DOLocationID':'DropoffLocationID','passenger_count':'PassengerAmount'},inplace=True)\n",
    "    elif str(i).split('/')[-1].split('_')[0] == 'fhv':\n",
    "#         print('fhv')\n",
    "        df = df.dropna(subset=['Pickup_DateTime','PUlocationID', 'DOlocationID'])\n",
    "        df['PUlocationID'] = df['PUlocationID'].astype('int')\n",
    "        df['DOlocationID'] = df['DOlocationID'].astype('int')\n",
    "        df = df[(df['PUlocationID']!=0)&(df['DOlocationID']!=0)]\n",
    "        df = df[(df['PUlocationID']!=264)&(df['DOlocationID']!=264)]\n",
    "        df = df[(df['PUlocationID']!=265)&(df['DOlocationID']!=265)]\n",
    "        df['Pickup_DateTime'] = pd.to_datetime(df['Pickup_DateTime'])\n",
    "        df['Date'] = df['Pickup_DateTime'].dt.strftime('%m/%d/%Y')\n",
    "        df['PassengerAmount'] = 1\n",
    "        df.rename(columns={'PUlocationID':'PickupLocationID','DOlocationID':'DropoffLocationID'},inplace=True)\n",
    "    df['flag'] = str(i).split('/')[-1].split('_')[0]\n",
    "#     print(df.columns)\n",
    "    df = df[['Date','PickupLocationID','DropoffLocationID','PassengerAmount','flag']]\n",
    "    df.to_csv(save_path,index=False, header=False, mode='a+')\n",
    "print('done')\n",
    "    "
   ]
  },
  {
   "cell_type": "code",
   "execution_count": 24,
   "metadata": {},
   "outputs": [],
   "source": [
    "subway_data ='NewYork_Taxi.csv'"
   ]
  },
  {
   "cell_type": "markdown",
   "metadata": {},
   "source": [
    "## 1.1: Import Transportation Data"
   ]
  },
  {
   "cell_type": "code",
   "execution_count": 11,
   "metadata": {},
   "outputs": [],
   "source": [
    "size = 10 ** 5"
   ]
  },
  {
   "cell_type": "code",
   "execution_count": 30,
   "metadata": {},
   "outputs": [
    {
     "name": "stdout",
     "output_type": "stream",
     "text": [
      "Iteration 2\n",
      "Done\n"
     ]
    }
   ],
   "source": [
    "# import data\n",
    "df_grouped = pd.DataFrame()\n",
    "Num = 1\n",
    "# use chunk to limit to rows read in RAM for each time\n",
    "for chunck in pd.read_csv(subway_data, chunksize=size):\n",
    "    \n",
    "    chunck.dropna(inplace=True)\n",
    "    chunck['Trip'] = 1\n",
    "    chunck['PickupLocationID'] = chunck['PickupLocationID'].astype(int)\n",
    "    chunck['DropoffLocationID'] = chunck['DropoffLocationID'].astype(int)\n",
    "    df_grouped_chunck = pd.DataFrame(chunck.groupby(['Date', 'PickupLocationID', 'DropoffLocationID'],as_index = False)['Trip',].sum()).sort_index()\n",
    "    if Num == 1:\n",
    "        df_grouped_chunck.to_csv('NewYorkEdgeDatewiseAggregated.csv', index=False,header=True,mode='a+')\n",
    "    else:\n",
    "        df_grouped_chunck.to_csv('NewYorkEdgeDatewiseAggregated.csv', index=False,header=False,mode='a+')\n",
    "    print('Iteration', Num)\n",
    "    Num += 1\n",
    "print('Done')"
   ]
  }
 ],
 "metadata": {
  "kernelspec": {
   "display_name": "Python 3",
   "language": "python",
   "name": "python3"
  },
  "language_info": {
   "codemirror_mode": {
    "name": "ipython",
    "version": 3
   },
   "file_extension": ".py",
   "mimetype": "text/x-python",
   "name": "python",
   "nbconvert_exporter": "python",
   "pygments_lexer": "ipython3",
   "version": "3.6.6"
  }
 },
 "nbformat": 4,
 "nbformat_minor": 2
}
