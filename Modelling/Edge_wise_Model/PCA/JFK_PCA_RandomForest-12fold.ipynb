{
 "cells": [
  {
   "cell_type": "code",
   "execution_count": 1,
   "metadata": {},
   "outputs": [],
   "source": [
    "import pandas as pd\n",
    "from sklearn.decomposition import PCA\n",
    "import numpy as np\n",
    "import matplotlib.pyplot as plt\n",
    "\n",
    "from sklearn.preprocessing import StandardScaler\n",
    "from sklearn.metrics import r2_score\n",
    "from sklearn.ensemble import RandomForestRegressor\n",
    "\n",
    "from sklearn.model_selection import train_test_split\n",
    "from sklearn.model_selection import RandomizedSearchCV\n",
    "from sklearn.model_selection import cross_val_score\n",
    "from sklearn.multioutput import MultiOutputRegressor"
   ]
  },
  {
   "cell_type": "markdown",
   "metadata": {},
   "source": [
    "### Helper Functions"
   ]
  },
  {
   "cell_type": "code",
   "execution_count": 2,
   "metadata": {},
   "outputs": [],
   "source": [
    "def loadData(file):\n",
    "    data = pd.read_csv(file)\n",
    "    print('Raw shape: ',data.shape)\n",
    "    data['Date'] = pd.to_datetime(data.Date)\n",
    "    print('Days: ',len(set(data.Date)))\n",
    "    return data"
   ]
  },
  {
   "cell_type": "code",
   "execution_count": 3,
   "metadata": {},
   "outputs": [],
   "source": [
    "def getTimeSeries(df):\n",
    "    table = pd.pivot_table(df, values='vehicle_count', index=['Date','Hour'],\n",
    "                    columns=['DOLocationID'], aggfunc=np.sum, fill_value=0)\n",
    "    return table"
   ]
  },
  {
   "cell_type": "code",
   "execution_count": 4,
   "metadata": {},
   "outputs": [],
   "source": [
    "def zscoreNormalizeSpatial(matrix):\n",
    "    m = matrix.copy()\n",
    "    for i in range(m.shape[0]):\n",
    "        m[i, :] = (m[i, :] - m[i, :].mean()) / (m[i, :].std()+1e-10)\n",
    "        \n",
    "    return m"
   ]
  },
  {
   "cell_type": "code",
   "execution_count": 5,
   "metadata": {},
   "outputs": [],
   "source": [
    "def standardize(matrix):\n",
    "    m = matrix.copy()\n",
    "    scaler = StandardScaler()\n",
    "    scaler.fit(m)\n",
    "    t = scaler.transform(m)\n",
    "    return scaler, t"
   ]
  },
  {
   "cell_type": "code",
   "execution_count": 6,
   "metadata": {},
   "outputs": [],
   "source": [
    "def inverse_standardize(matrix, scaler):\n",
    "    t = matrix.copy()\n",
    "    return scaler.inverse_transform(t)"
   ]
  },
  {
   "cell_type": "code",
   "execution_count": 7,
   "metadata": {},
   "outputs": [],
   "source": [
    "def getPCAFeatures(matrix, n=10):\n",
    "    pca = PCA(n_components=n)\n",
    "    pca.fit(matrix)\n",
    "    reducedMatrixPCA = pca.transform(matrix)\n",
    "    reducedMatrixPCA.shape\n",
    "\n",
    "    reducedDict = {str(i+1):reducedMatrixPCA[:,i] for i in range(reducedMatrixPCA.shape[1])}\n",
    "    reducedDf = pd.DataFrame(reducedDict)\n",
    "    #reducedDf.index = index\n",
    "    return pca,reducedDf"
   ]
  },
  {
   "cell_type": "code",
   "execution_count": 8,
   "metadata": {},
   "outputs": [],
   "source": [
    "def PCA_test(matrix, pca):\n",
    "\n",
    "    reducedMatrixPCA = pca.transform(matrix)\n",
    "\n",
    "    reducedDict = {str(i+1):reducedMatrixPCA[:,i] for i in range(reducedMatrixPCA.shape[1])}\n",
    "    reducedDf = pd.DataFrame(reducedDict)\n",
    "    #reducedDf.index = index\n",
    "    return reducedDf"
   ]
  },
  {
   "cell_type": "code",
   "execution_count": 9,
   "metadata": {},
   "outputs": [],
   "source": [
    "def inverse_pca(matrix,pca):\n",
    "    m = matrix.copy()\n",
    "    return pca.inverse_transform(m)"
   ]
  },
  {
   "cell_type": "code",
   "execution_count": 10,
   "metadata": {},
   "outputs": [],
   "source": [
    "def addLag(dataset, maxlag, lagColumns):\n",
    "    dataset_list = [dataset]\n",
    "\n",
    "    for l in range(1, maxlag+1):\n",
    "        df = dataset.shift(l)\n",
    "        df = df[lagColumns]\n",
    "        df.columns = [c+'_lag_'+str(l) for c in df.columns]\n",
    "        dataset_list.append(df)\n",
    "\n",
    "    dataset = pd.concat(dataset_list, axis=1).dropna()\n",
    "    return dataset"
   ]
  },
  {
   "cell_type": "code",
   "execution_count": 11,
   "metadata": {},
   "outputs": [],
   "source": [
    "def get_rmse(matrix1, matrix2):\n",
    "    sumSquareError = np.mean(np.power(matrix1 - matrix2,2))\n",
    "    rmse = np.power(sumSquareError,0.5)\n",
    "    return rmse"
   ]
  },
  {
   "cell_type": "code",
   "execution_count": 12,
   "metadata": {},
   "outputs": [],
   "source": [
    "def pca_performance(trainmatrix,testmatrix, components):\n",
    "    rmseList = []\n",
    "    r2List = []\n",
    "    for n in components:\n",
    "        scaler, s_train_matrix = standardize(trainmatrix)\n",
    "        s_test_matrix = scaler.transform(testmatrix)\n",
    "\n",
    "        pca,pcaTrain = getPCAFeatures(s_train_matrix,n=n)\n",
    "        pcaTest = PCA_test(s_test_matrix, pca)\n",
    "        \n",
    "        network_prediction = inverse_pca(pcaTest,pca)\n",
    "        network_prediction = inverse_standardize(network_prediction, scaler)\n",
    "\n",
    "        r2Score = r2_score(testmatrix, network_prediction, multioutput='variance_weighted')\n",
    "                \n",
    "        r2List.append(r2Score)\n",
    "    \n",
    "    return r2List"
   ]
  },
  {
   "cell_type": "code",
   "execution_count": 13,
   "metadata": {},
   "outputs": [],
   "source": [
    "def nonlinearperformance(trainmatrix,testmatrix,components, maxlag=12):\n",
    "    r2List = []\n",
    "    for n in components:\n",
    "        print(n)\n",
    "        scaler, s_train_matrix = standardize(trainmatrix)\n",
    "        s_test_matrix = scaler.transform(testmatrix)\n",
    "\n",
    "        pca,pcaTrain = getPCAFeatures(s_train_matrix,n=n)\n",
    "        pcaTest = PCA_test(s_test_matrix, pca)\n",
    "\n",
    "#         maxlag = 12\n",
    "        DateColumns = ['Date', 'Hour']\n",
    "        lagColumns = [c for c in pcaTrain.columns if c not in DateColumns]\n",
    "\n",
    "        dataset_train = addLag(pcaTrain, maxlag)\n",
    "\n",
    "        dataset_test = addLag(pcaTest, maxlag)\n",
    "\n",
    "        X_train = dataset_train.drop(lagColumns , axis = 1)\n",
    "        X_test = dataset_test.drop(lagColumns , axis = 1)\n",
    "        y_train = dataset_train[lagColumns]\n",
    "        y_test = dataset_test[lagColumns]\n",
    "#         print(X_train.shape)\n",
    "#         print(X_test.shape)\n",
    "#         print(y_train.shape)\n",
    "#         print(y_test.shape)\n",
    "\n",
    "        rf2 = RandomForestRegressor(random_state = 0, n_estimators=200, \n",
    "                                   min_samples_split=10,\n",
    "                                   min_samples_leaf= 3, \n",
    "                                   max_features= 'sqrt',\n",
    "                                   max_depth= 30, \n",
    "                                   bootstrap= True)\n",
    "\n",
    "        rf2.fit(X_train,y_train)\n",
    "\n",
    "        pca_prediction = rf2.predict(X_test)\n",
    "\n",
    "        network_prediction = inverse_pca(pca_prediction,pca)\n",
    "\n",
    "        network_prediction = inverse_standardize(network_prediction, scaler)\n",
    "\n",
    "        r2Score = r2_score(testmatrix[maxlag:], network_prediction, \\\n",
    "                           multioutput='variance_weighted')\n",
    "        \n",
    "        r2List.append(r2Score)\n",
    "    return r2List"
   ]
  },
  {
   "cell_type": "markdown",
   "metadata": {},
   "source": [
    "#### Preparing Data"
   ]
  },
  {
   "cell_type": "code",
   "execution_count": 14,
   "metadata": {},
   "outputs": [],
   "source": [
    "hub = 'Jfk'\n",
    "tune_hyp_params = False\n",
    "pca_comps = 24"
   ]
  },
  {
   "cell_type": "code",
   "execution_count": 15,
   "metadata": {},
   "outputs": [],
   "source": [
    "dataDir = '/home/urwa/Documents/Projects/NYU Remote/project/data/processedData/'\n",
    "file = dataDir + hub + 'VehiceByHour.csv'"
   ]
  },
  {
   "cell_type": "code",
   "execution_count": 16,
   "metadata": {},
   "outputs": [],
   "source": [
    "# file = '/home/urwa/Documents/Projects/NYU Remote/project/data/JfkVehiceByHour.csv'"
   ]
  },
  {
   "cell_type": "code",
   "execution_count": 17,
   "metadata": {},
   "outputs": [
    {
     "name": "stdout",
     "output_type": "stream",
     "text": [
      "Raw shape:  (2260080, 4)\n",
      "Days:  365\n"
     ]
    }
   ],
   "source": [
    "data = loadData(file)"
   ]
  },
  {
   "cell_type": "code",
   "execution_count": 18,
   "metadata": {},
   "outputs": [],
   "source": [
    "data = getTimeSeries(data)"
   ]
  },
  {
   "cell_type": "code",
   "execution_count": 19,
   "metadata": {},
   "outputs": [
    {
     "data": {
      "text/plain": [
       "(8760, 258)"
      ]
     },
     "execution_count": 19,
     "metadata": {},
     "output_type": "execute_result"
    }
   ],
   "source": [
    "data.shape"
   ]
  },
  {
   "cell_type": "code",
   "execution_count": null,
   "metadata": {},
   "outputs": [],
   "source": []
  },
  {
   "cell_type": "code",
   "execution_count": 20,
   "metadata": {},
   "outputs": [],
   "source": [
    "matrix = data.values.astype(np.float64)"
   ]
  },
  {
   "cell_type": "code",
   "execution_count": 21,
   "metadata": {},
   "outputs": [],
   "source": [
    "scaler, s_matrix = standardize(matrix)"
   ]
  },
  {
   "cell_type": "code",
   "execution_count": 22,
   "metadata": {},
   "outputs": [],
   "source": [
    "pca,pcaData = getPCAFeatures(s_matrix,n=pca_comps)"
   ]
  },
  {
   "cell_type": "code",
   "execution_count": 23,
   "metadata": {},
   "outputs": [],
   "source": [
    "pcaData.index = data.index\n",
    "pcaData = pcaData.reset_index()"
   ]
  },
  {
   "cell_type": "code",
   "execution_count": null,
   "metadata": {},
   "outputs": [],
   "source": []
  },
  {
   "cell_type": "code",
   "execution_count": 24,
   "metadata": {},
   "outputs": [],
   "source": [
    "externalDataDir = \"/home/urwa/Documents/Projects/NYU Remote/project/data/HongData/\"\n",
    "extFile = externalDataDir + hub.upper() + \".csv\""
   ]
  },
  {
   "cell_type": "code",
   "execution_count": 25,
   "metadata": {},
   "outputs": [
    {
     "name": "stdout",
     "output_type": "stream",
     "text": [
      "(8760, 46)\n"
     ]
    },
    {
     "data": {
      "text/html": [
       "<div>\n",
       "<style scoped>\n",
       "    .dataframe tbody tr th:only-of-type {\n",
       "        vertical-align: middle;\n",
       "    }\n",
       "\n",
       "    .dataframe tbody tr th {\n",
       "        vertical-align: top;\n",
       "    }\n",
       "\n",
       "    .dataframe thead th {\n",
       "        text-align: right;\n",
       "    }\n",
       "</style>\n",
       "<table border=\"1\" class=\"dataframe\">\n",
       "  <thead>\n",
       "    <tr style=\"text-align: right;\">\n",
       "      <th></th>\n",
       "      <th>date</th>\n",
       "      <th>arrival</th>\n",
       "      <th>fhv</th>\n",
       "      <th>yellow</th>\n",
       "      <th>vehicle</th>\n",
       "      <th>ifmon</th>\n",
       "      <th>iftue</th>\n",
       "      <th>ifwed</th>\n",
       "      <th>ifthu</th>\n",
       "      <th>iffri</th>\n",
       "      <th>...</th>\n",
       "      <th>maxtemp</th>\n",
       "      <th>mintemp</th>\n",
       "      <th>avgtemp</th>\n",
       "      <th>departure</th>\n",
       "      <th>hdd</th>\n",
       "      <th>cdd</th>\n",
       "      <th>participation</th>\n",
       "      <th>newsnow</th>\n",
       "      <th>snowdepth</th>\n",
       "      <th>ifSnow</th>\n",
       "    </tr>\n",
       "  </thead>\n",
       "  <tbody>\n",
       "    <tr>\n",
       "      <th>0</th>\n",
       "      <td>18/1/1 0:00</td>\n",
       "      <td>6</td>\n",
       "      <td>263</td>\n",
       "      <td>174</td>\n",
       "      <td>437</td>\n",
       "      <td>1</td>\n",
       "      <td>0</td>\n",
       "      <td>0</td>\n",
       "      <td>0</td>\n",
       "      <td>0</td>\n",
       "      <td>...</td>\n",
       "      <td>18</td>\n",
       "      <td>7</td>\n",
       "      <td>12.5</td>\n",
       "      <td>-21.2</td>\n",
       "      <td>52</td>\n",
       "      <td>0</td>\n",
       "      <td>0.0</td>\n",
       "      <td>0.0</td>\n",
       "      <td>0</td>\n",
       "      <td>0</td>\n",
       "    </tr>\n",
       "    <tr>\n",
       "      <th>1</th>\n",
       "      <td>18/1/1 1:00</td>\n",
       "      <td>6</td>\n",
       "      <td>138</td>\n",
       "      <td>133</td>\n",
       "      <td>271</td>\n",
       "      <td>1</td>\n",
       "      <td>0</td>\n",
       "      <td>0</td>\n",
       "      <td>0</td>\n",
       "      <td>0</td>\n",
       "      <td>...</td>\n",
       "      <td>18</td>\n",
       "      <td>7</td>\n",
       "      <td>12.5</td>\n",
       "      <td>-21.2</td>\n",
       "      <td>52</td>\n",
       "      <td>0</td>\n",
       "      <td>0.0</td>\n",
       "      <td>0.0</td>\n",
       "      <td>0</td>\n",
       "      <td>0</td>\n",
       "    </tr>\n",
       "  </tbody>\n",
       "</table>\n",
       "<p>2 rows × 46 columns</p>\n",
       "</div>"
      ],
      "text/plain": [
       "          date  arrival  fhv  yellow  vehicle  ifmon  iftue  ifwed  ifthu  \\\n",
       "0  18/1/1 0:00        6  263     174      437      1      0      0      0   \n",
       "1  18/1/1 1:00        6  138     133      271      1      0      0      0   \n",
       "\n",
       "   iffri   ...    maxtemp  mintemp  avgtemp  departure  hdd  cdd  \\\n",
       "0      0   ...         18        7     12.5      -21.2   52    0   \n",
       "1      0   ...         18        7     12.5      -21.2   52    0   \n",
       "\n",
       "   participation  newsnow  snowdepth  ifSnow  \n",
       "0            0.0      0.0          0       0  \n",
       "1            0.0      0.0          0       0  \n",
       "\n",
       "[2 rows x 46 columns]"
      ]
     },
     "execution_count": 25,
     "metadata": {},
     "output_type": "execute_result"
    }
   ],
   "source": [
    "extDf = pd.read_csv(extFile)\n",
    "print(extDf.shape)\n",
    "extDf.head(2)"
   ]
  },
  {
   "cell_type": "code",
   "execution_count": 26,
   "metadata": {},
   "outputs": [
    {
     "data": {
      "text/html": [
       "<div>\n",
       "<style scoped>\n",
       "    .dataframe tbody tr th:only-of-type {\n",
       "        vertical-align: middle;\n",
       "    }\n",
       "\n",
       "    .dataframe tbody tr th {\n",
       "        vertical-align: top;\n",
       "    }\n",
       "\n",
       "    .dataframe thead th {\n",
       "        text-align: right;\n",
       "    }\n",
       "</style>\n",
       "<table border=\"1\" class=\"dataframe\">\n",
       "  <thead>\n",
       "    <tr style=\"text-align: right;\">\n",
       "      <th></th>\n",
       "      <th>date</th>\n",
       "      <th>arrival</th>\n",
       "      <th>fhv</th>\n",
       "      <th>yellow</th>\n",
       "      <th>vehicle</th>\n",
       "      <th>ifmon</th>\n",
       "      <th>iftue</th>\n",
       "      <th>ifwed</th>\n",
       "      <th>ifthu</th>\n",
       "      <th>iffri</th>\n",
       "      <th>...</th>\n",
       "      <th>maxtemp</th>\n",
       "      <th>mintemp</th>\n",
       "      <th>avgtemp</th>\n",
       "      <th>departure</th>\n",
       "      <th>hdd</th>\n",
       "      <th>cdd</th>\n",
       "      <th>participation</th>\n",
       "      <th>newsnow</th>\n",
       "      <th>snowdepth</th>\n",
       "      <th>ifSnow</th>\n",
       "    </tr>\n",
       "  </thead>\n",
       "  <tbody>\n",
       "    <tr>\n",
       "      <th>0</th>\n",
       "      <td>2018-01-01 00:00:00</td>\n",
       "      <td>6</td>\n",
       "      <td>263</td>\n",
       "      <td>174</td>\n",
       "      <td>437</td>\n",
       "      <td>1</td>\n",
       "      <td>0</td>\n",
       "      <td>0</td>\n",
       "      <td>0</td>\n",
       "      <td>0</td>\n",
       "      <td>...</td>\n",
       "      <td>18</td>\n",
       "      <td>7</td>\n",
       "      <td>12.5</td>\n",
       "      <td>-21.2</td>\n",
       "      <td>52</td>\n",
       "      <td>0</td>\n",
       "      <td>0.0</td>\n",
       "      <td>0.0</td>\n",
       "      <td>0</td>\n",
       "      <td>0</td>\n",
       "    </tr>\n",
       "    <tr>\n",
       "      <th>1</th>\n",
       "      <td>2018-01-01 01:00:00</td>\n",
       "      <td>6</td>\n",
       "      <td>138</td>\n",
       "      <td>133</td>\n",
       "      <td>271</td>\n",
       "      <td>1</td>\n",
       "      <td>0</td>\n",
       "      <td>0</td>\n",
       "      <td>0</td>\n",
       "      <td>0</td>\n",
       "      <td>...</td>\n",
       "      <td>18</td>\n",
       "      <td>7</td>\n",
       "      <td>12.5</td>\n",
       "      <td>-21.2</td>\n",
       "      <td>52</td>\n",
       "      <td>0</td>\n",
       "      <td>0.0</td>\n",
       "      <td>0.0</td>\n",
       "      <td>0</td>\n",
       "      <td>0</td>\n",
       "    </tr>\n",
       "  </tbody>\n",
       "</table>\n",
       "<p>2 rows × 46 columns</p>\n",
       "</div>"
      ],
      "text/plain": [
       "                 date  arrival  fhv  yellow  vehicle  ifmon  iftue  ifwed  \\\n",
       "0 2018-01-01 00:00:00        6  263     174      437      1      0      0   \n",
       "1 2018-01-01 01:00:00        6  138     133      271      1      0      0   \n",
       "\n",
       "   ifthu  iffri   ...    maxtemp  mintemp  avgtemp  departure  hdd  cdd  \\\n",
       "0      0      0   ...         18        7     12.5      -21.2   52    0   \n",
       "1      0      0   ...         18        7     12.5      -21.2   52    0   \n",
       "\n",
       "   participation  newsnow  snowdepth  ifSnow  \n",
       "0            0.0      0.0          0       0  \n",
       "1            0.0      0.0          0       0  \n",
       "\n",
       "[2 rows x 46 columns]"
      ]
     },
     "execution_count": 26,
     "metadata": {},
     "output_type": "execute_result"
    }
   ],
   "source": [
    "extDf['date'] = pd.to_datetime(extDf['date'], yearfirst=True)\n",
    "extDf.head(2)"
   ]
  },
  {
   "cell_type": "code",
   "execution_count": 27,
   "metadata": {},
   "outputs": [],
   "source": [
    "extDf['Hour'] = extDf['date'].dt.hour\n",
    "extDf['Dow'] = extDf['date'].dt.dayofweek\n",
    "extDf['Date'] = extDf['date'].dt.date"
   ]
  },
  {
   "cell_type": "code",
   "execution_count": 28,
   "metadata": {},
   "outputs": [
    {
     "data": {
      "text/plain": [
       "Index(['date', 'arrival', 'fhv', 'yellow', 'vehicle', 'ifmon', 'iftue',\n",
       "       'ifwed', 'ifthu', 'iffri', 'ifsat', 'ifsun', 'if0', 'if1', 'if2', 'if3',\n",
       "       'if4', 'if5', 'if6', 'if7', 'if8', 'if9', 'if10', 'if11', 'if12',\n",
       "       'if13', 'if14', 'if15', 'if16', 'if17', 'if18', 'if19', 'if20', 'if21',\n",
       "       'if22', 'if23', 'maxtemp', 'mintemp', 'avgtemp', 'departure', 'hdd',\n",
       "       'cdd', 'participation', 'newsnow', 'snowdepth', 'ifSnow', 'Hour', 'Dow',\n",
       "       'Date'],\n",
       "      dtype='object')"
      ]
     },
     "execution_count": 28,
     "metadata": {},
     "output_type": "execute_result"
    }
   ],
   "source": [
    "extDf.columns"
   ]
  },
  {
   "cell_type": "code",
   "execution_count": 29,
   "metadata": {},
   "outputs": [],
   "source": [
    "selected_columns = ['Date', 'Hour', 'Dow', 'arrival','maxtemp', 'mintemp', 'avgtemp', 'departure', 'hdd',\n",
    "       'cdd', 'participation', 'newsnow', 'snowdepth', 'ifSnow']"
   ]
  },
  {
   "cell_type": "code",
   "execution_count": 30,
   "metadata": {},
   "outputs": [],
   "source": [
    "extDf = extDf[selected_columns]"
   ]
  },
  {
   "cell_type": "code",
   "execution_count": 31,
   "metadata": {},
   "outputs": [
    {
     "name": "stdout",
     "output_type": "stream",
     "text": [
      "(8760, 26)\n",
      "(8760, 14)\n"
     ]
    }
   ],
   "source": [
    "print(pcaData.shape)\n",
    "print(extDf.shape)"
   ]
  },
  {
   "cell_type": "code",
   "execution_count": 32,
   "metadata": {},
   "outputs": [],
   "source": [
    "pcaData['Date'] = pd.to_datetime(pcaData['Date'])\n",
    "extDf['Date'] = pd.to_datetime(extDf['Date'])"
   ]
  },
  {
   "cell_type": "code",
   "execution_count": 33,
   "metadata": {},
   "outputs": [
    {
     "name": "stdout",
     "output_type": "stream",
     "text": [
      "(8760, 38)\n"
     ]
    }
   ],
   "source": [
    "pcaData = pd.merge(pcaData,extDf, on=['Date', 'Hour'], how='inner')\n",
    "print(pcaData.shape)"
   ]
  },
  {
   "cell_type": "code",
   "execution_count": 34,
   "metadata": {},
   "outputs": [
    {
     "data": {
      "text/plain": [
       "Index(['Date', 'Hour', '1', '2', '3', '4', '5', '6', '7', '8', '9', '10', '11',\n",
       "       '12', '13', '14', '15', '16', '17', '18', '19', '20', '21', '22', '23',\n",
       "       '24', 'Dow', 'arrival', 'maxtemp', 'mintemp', 'avgtemp', 'departure',\n",
       "       'hdd', 'cdd', 'participation', 'newsnow', 'snowdepth', 'ifSnow'],\n",
       "      dtype='object')"
      ]
     },
     "execution_count": 34,
     "metadata": {},
     "output_type": "execute_result"
    }
   ],
   "source": [
    "pcaData.columns"
   ]
  },
  {
   "cell_type": "code",
   "execution_count": 35,
   "metadata": {},
   "outputs": [],
   "source": [
    "lagColumns = ['1', '2', '3', '4', '5', '6', '7', '8', '9', '10', '11',\n",
    "       '12', '13', '14', '15', '16', '17', '18', '19', '20', '21', '22', '23',\n",
    "       '24', 'arrival']\n",
    "# lagColumns = ['1', '2', '3', 'arrival']\n",
    "\n",
    "DateColumns = ['Date']\n",
    "\n",
    "targetColumns = ['1', '2', '3', '4', '5', '6', '7', '8', '9', '10', '11',\n",
    "       '12', '13', '14', '15', '16', '17', '18', '19', '20', '21', '22', '23',\n",
    "       '24']"
   ]
  },
  {
   "cell_type": "code",
   "execution_count": 36,
   "metadata": {},
   "outputs": [
    {
     "data": {
      "text/plain": [
       "(8748, 338)"
      ]
     },
     "execution_count": 36,
     "metadata": {},
     "output_type": "execute_result"
    }
   ],
   "source": [
    "maxlag = 12\n",
    "\n",
    "pcaData_lag = addLag(pcaData, maxlag, lagColumns)\n",
    "\n",
    "pcaData_lag.shape"
   ]
  },
  {
   "cell_type": "code",
   "execution_count": null,
   "metadata": {},
   "outputs": [],
   "source": []
  },
  {
   "cell_type": "code",
   "execution_count": 37,
   "metadata": {},
   "outputs": [
    {
     "name": "stdout",
     "output_type": "stream",
     "text": [
      "\n",
      "month:  1\n",
      "Train Size:  (8016, 338)\n",
      "Test Size:  (732, 338)\n",
      "Train R2:  0.9426020100279727\n",
      "Test R2:  0.5810004241475226\n",
      "Edge R2:  0.4977977065099888\n",
      "\n",
      "month:  2\n",
      "Train Size:  (8076, 338)\n",
      "Test Size:  (672, 338)\n",
      "Train R2:  0.942643347344414\n",
      "Test R2:  0.6010242730799505\n",
      "Edge R2:  0.5374718726379979\n",
      "\n",
      "month:  3\n",
      "Train Size:  (8004, 338)\n",
      "Test Size:  (744, 338)\n",
      "Train R2:  0.9429192394980218\n",
      "Test R2:  0.6361651757785906\n",
      "Edge R2:  0.5715551971859136\n",
      "\n",
      "month:  4\n",
      "Train Size:  (8028, 338)\n",
      "Test Size:  (720, 338)\n",
      "Train R2:  0.9426404654908996\n",
      "Test R2:  0.6337053760919451\n",
      "Edge R2:  0.5786405260829142\n",
      "\n",
      "month:  5\n",
      "Train Size:  (8004, 338)\n",
      "Test Size:  (744, 338)\n",
      "Train R2:  0.9423143734461343\n",
      "Test R2:  0.662217848986758\n",
      "Edge R2:  0.5822940390069935\n",
      "\n",
      "month:  6\n",
      "Train Size:  (8028, 338)\n",
      "Test Size:  (720, 338)\n",
      "Train R2:  0.9424499187459249\n",
      "Test R2:  0.6511503120098064\n",
      "Edge R2:  0.5611409200011731\n",
      "\n",
      "month:  7\n",
      "Train Size:  (8004, 338)\n",
      "Test Size:  (744, 338)\n",
      "Train R2:  0.9429471008718928\n",
      "Test R2:  0.5970768325977664\n",
      "Edge R2:  0.515427997841634\n",
      "\n",
      "month:  8\n",
      "Train Size:  (8004, 338)\n",
      "Test Size:  (744, 338)\n",
      "Train R2:  0.9433080387866097\n",
      "Test R2:  0.551095048044081\n",
      "Edge R2:  0.5063682956345621\n",
      "\n",
      "month:  9\n",
      "Train Size:  (8028, 338)\n",
      "Test Size:  (720, 338)\n",
      "Train R2:  0.9422279386327871\n",
      "Test R2:  0.6551830000482514\n",
      "Edge R2:  0.5893005859056516\n",
      "\n",
      "month:  10\n",
      "Train Size:  (8004, 338)\n",
      "Test Size:  (744, 338)\n",
      "Train R2:  0.9419841128675019\n",
      "Test R2:  0.6800996267463524\n",
      "Edge R2:  0.6121708755953594\n",
      "\n",
      "month:  11\n",
      "Train Size:  (8028, 338)\n",
      "Test Size:  (720, 338)\n",
      "Train R2:  0.942311769282321\n",
      "Test R2:  0.6174346661948487\n",
      "Edge R2:  0.5489169615916201\n",
      "\n",
      "month:  12\n",
      "Train Size:  (8004, 338)\n",
      "Test Size:  (744, 338)\n",
      "Train R2:  0.9426487387374454\n",
      "Test R2:  0.6270779970053255\n",
      "Edge R2:  0.5428016103445397\n"
     ]
    }
   ],
   "source": [
    "CommR2List = []\n",
    "EdgeR2List = []\n",
    "residualDf_list = []\n",
    "\n",
    "for m in range(1,13):\n",
    "    print()\n",
    "\n",
    "    print(\"month: \",m)\n",
    "    month_index  = pd.to_datetime(pcaData_lag.Date).dt.month == m\n",
    "\n",
    "    dataset_train = pcaData_lag[~month_index]\n",
    "    dataset_test = pcaData_lag[month_index]\n",
    "    print(\"Train Size: \",dataset_train.shape)\n",
    "    print(\"Test Size: \",dataset_test.shape)\n",
    "\n",
    "\n",
    "    X_train = dataset_train.drop(targetColumns+DateColumns , axis = 1)\n",
    "    X_test = dataset_test.drop(targetColumns+DateColumns , axis = 1)\n",
    "    y_train = dataset_train[targetColumns]\n",
    "    y_test = dataset_test[targetColumns]\n",
    "\n",
    "\n",
    "\n",
    "    rf2 = RandomForestRegressor(random_state = 2019, n_estimators=150, \n",
    "                               min_samples_split=3,\n",
    "                               min_samples_leaf= 2, \n",
    "                               max_features= 'sqrt',\n",
    "                               max_depth= None, \n",
    "                               bootstrap= False)\n",
    "\n",
    "    rf2.fit(X_train,y_train)\n",
    "\n",
    "    print(\"Train R2: \",rf2.score(X_train,y_train))\n",
    "    test_r2 = rf2.score(X_test,y_test)\n",
    "    print(\"Test R2: \",test_r2)\n",
    "\n",
    "\n",
    "    pca_prediction = rf2.predict(X_test)\n",
    "\n",
    "    residual = y_test - pca_prediction\n",
    "    residual_df = dataset_test[['Date','Hour']]\n",
    "    residual_df = pd.concat([residual_df,pd.DataFrame(residual)], axis =1)\n",
    "\n",
    "    network_prediction = inverse_pca(pca_prediction,pca)\n",
    "\n",
    "    network_prediction = inverse_standardize(network_prediction, scaler)\n",
    "\n",
    "    edgeMonthIndex = [False] * maxlag + list(month_index)\n",
    "    edge_r2 = r2_score(data[edgeMonthIndex], network_prediction, multioutput='variance_weighted')\n",
    "    print(\"Edge R2: \",edge_r2)\n",
    "\n",
    "\n",
    "    CommR2List.append(test_r2)\n",
    "    EdgeR2List.append(edge_r2)\n",
    "    residualDf_list.append(residual_df)"
   ]
  },
  {
   "cell_type": "code",
   "execution_count": 38,
   "metadata": {},
   "outputs": [
    {
     "name": "stdout",
     "output_type": "stream",
     "text": [
      "0.6244358817275999\n",
      "0.5536572156948623\n"
     ]
    }
   ],
   "source": [
    "print(np.mean(CommR2List))\n",
    "print(np.mean(EdgeR2List))"
   ]
  },
  {
   "cell_type": "code",
   "execution_count": 39,
   "metadata": {},
   "outputs": [
    {
     "name": "stdout",
     "output_type": "stream",
     "text": [
      "(8748, 26)\n"
     ]
    },
    {
     "data": {
      "text/html": [
       "<div>\n",
       "<style scoped>\n",
       "    .dataframe tbody tr th:only-of-type {\n",
       "        vertical-align: middle;\n",
       "    }\n",
       "\n",
       "    .dataframe tbody tr th {\n",
       "        vertical-align: top;\n",
       "    }\n",
       "\n",
       "    .dataframe thead th {\n",
       "        text-align: right;\n",
       "    }\n",
       "</style>\n",
       "<table border=\"1\" class=\"dataframe\">\n",
       "  <thead>\n",
       "    <tr style=\"text-align: right;\">\n",
       "      <th></th>\n",
       "      <th>Date</th>\n",
       "      <th>Hour</th>\n",
       "      <th>1</th>\n",
       "      <th>2</th>\n",
       "      <th>3</th>\n",
       "      <th>4</th>\n",
       "      <th>5</th>\n",
       "      <th>6</th>\n",
       "      <th>7</th>\n",
       "      <th>8</th>\n",
       "      <th>...</th>\n",
       "      <th>15</th>\n",
       "      <th>16</th>\n",
       "      <th>17</th>\n",
       "      <th>18</th>\n",
       "      <th>19</th>\n",
       "      <th>20</th>\n",
       "      <th>21</th>\n",
       "      <th>22</th>\n",
       "      <th>23</th>\n",
       "      <th>24</th>\n",
       "    </tr>\n",
       "  </thead>\n",
       "  <tbody>\n",
       "    <tr>\n",
       "      <th>12</th>\n",
       "      <td>2018-01-01</td>\n",
       "      <td>12</td>\n",
       "      <td>2.599216</td>\n",
       "      <td>-0.370244</td>\n",
       "      <td>3.665980</td>\n",
       "      <td>-0.219620</td>\n",
       "      <td>1.737115</td>\n",
       "      <td>-1.076316</td>\n",
       "      <td>-0.742491</td>\n",
       "      <td>-0.904078</td>\n",
       "      <td>...</td>\n",
       "      <td>0.444887</td>\n",
       "      <td>-0.040181</td>\n",
       "      <td>0.793238</td>\n",
       "      <td>0.719143</td>\n",
       "      <td>-0.234111</td>\n",
       "      <td>-0.658986</td>\n",
       "      <td>0.908582</td>\n",
       "      <td>0.485451</td>\n",
       "      <td>-0.266344</td>\n",
       "      <td>1.812526</td>\n",
       "    </tr>\n",
       "    <tr>\n",
       "      <th>13</th>\n",
       "      <td>2018-01-01</td>\n",
       "      <td>13</td>\n",
       "      <td>-0.263601</td>\n",
       "      <td>-0.726079</td>\n",
       "      <td>2.258161</td>\n",
       "      <td>0.606740</td>\n",
       "      <td>2.076634</td>\n",
       "      <td>-2.140722</td>\n",
       "      <td>-0.248958</td>\n",
       "      <td>-0.346265</td>\n",
       "      <td>...</td>\n",
       "      <td>-0.729516</td>\n",
       "      <td>0.940653</td>\n",
       "      <td>1.567078</td>\n",
       "      <td>-1.471007</td>\n",
       "      <td>-0.550198</td>\n",
       "      <td>0.671229</td>\n",
       "      <td>0.533038</td>\n",
       "      <td>1.154037</td>\n",
       "      <td>0.946805</td>\n",
       "      <td>0.711769</td>\n",
       "    </tr>\n",
       "    <tr>\n",
       "      <th>14</th>\n",
       "      <td>2018-01-01</td>\n",
       "      <td>14</td>\n",
       "      <td>4.212355</td>\n",
       "      <td>-0.818031</td>\n",
       "      <td>6.148854</td>\n",
       "      <td>0.133563</td>\n",
       "      <td>2.354138</td>\n",
       "      <td>-1.419964</td>\n",
       "      <td>-2.800009</td>\n",
       "      <td>-0.162299</td>\n",
       "      <td>...</td>\n",
       "      <td>-0.110567</td>\n",
       "      <td>0.635753</td>\n",
       "      <td>-0.011260</td>\n",
       "      <td>-1.599173</td>\n",
       "      <td>-0.300915</td>\n",
       "      <td>1.293747</td>\n",
       "      <td>-0.033815</td>\n",
       "      <td>-0.202584</td>\n",
       "      <td>-0.093369</td>\n",
       "      <td>0.263313</td>\n",
       "    </tr>\n",
       "    <tr>\n",
       "      <th>15</th>\n",
       "      <td>2018-01-01</td>\n",
       "      <td>15</td>\n",
       "      <td>2.928336</td>\n",
       "      <td>-0.629553</td>\n",
       "      <td>5.276805</td>\n",
       "      <td>1.215108</td>\n",
       "      <td>0.759989</td>\n",
       "      <td>-2.993759</td>\n",
       "      <td>0.104779</td>\n",
       "      <td>-2.756616</td>\n",
       "      <td>...</td>\n",
       "      <td>-0.518764</td>\n",
       "      <td>0.578764</td>\n",
       "      <td>-0.165889</td>\n",
       "      <td>-0.478127</td>\n",
       "      <td>0.279439</td>\n",
       "      <td>1.025036</td>\n",
       "      <td>-1.063386</td>\n",
       "      <td>0.717917</td>\n",
       "      <td>0.774265</td>\n",
       "      <td>-1.281173</td>\n",
       "    </tr>\n",
       "    <tr>\n",
       "      <th>16</th>\n",
       "      <td>2018-01-01</td>\n",
       "      <td>16</td>\n",
       "      <td>1.251564</td>\n",
       "      <td>-0.949770</td>\n",
       "      <td>5.729756</td>\n",
       "      <td>-1.330161</td>\n",
       "      <td>2.500719</td>\n",
       "      <td>-0.667572</td>\n",
       "      <td>-0.726916</td>\n",
       "      <td>0.163112</td>\n",
       "      <td>...</td>\n",
       "      <td>-0.435209</td>\n",
       "      <td>0.451378</td>\n",
       "      <td>0.682149</td>\n",
       "      <td>-1.171574</td>\n",
       "      <td>2.860331</td>\n",
       "      <td>-1.490919</td>\n",
       "      <td>-0.898767</td>\n",
       "      <td>0.956628</td>\n",
       "      <td>-1.149852</td>\n",
       "      <td>1.850084</td>\n",
       "    </tr>\n",
       "  </tbody>\n",
       "</table>\n",
       "<p>5 rows × 26 columns</p>\n",
       "</div>"
      ],
      "text/plain": [
       "         Date  Hour         1         2         3         4         5  \\\n",
       "12 2018-01-01    12  2.599216 -0.370244  3.665980 -0.219620  1.737115   \n",
       "13 2018-01-01    13 -0.263601 -0.726079  2.258161  0.606740  2.076634   \n",
       "14 2018-01-01    14  4.212355 -0.818031  6.148854  0.133563  2.354138   \n",
       "15 2018-01-01    15  2.928336 -0.629553  5.276805  1.215108  0.759989   \n",
       "16 2018-01-01    16  1.251564 -0.949770  5.729756 -1.330161  2.500719   \n",
       "\n",
       "           6         7         8    ...           15        16        17  \\\n",
       "12 -1.076316 -0.742491 -0.904078    ...     0.444887 -0.040181  0.793238   \n",
       "13 -2.140722 -0.248958 -0.346265    ...    -0.729516  0.940653  1.567078   \n",
       "14 -1.419964 -2.800009 -0.162299    ...    -0.110567  0.635753 -0.011260   \n",
       "15 -2.993759  0.104779 -2.756616    ...    -0.518764  0.578764 -0.165889   \n",
       "16 -0.667572 -0.726916  0.163112    ...    -0.435209  0.451378  0.682149   \n",
       "\n",
       "          18        19        20        21        22        23        24  \n",
       "12  0.719143 -0.234111 -0.658986  0.908582  0.485451 -0.266344  1.812526  \n",
       "13 -1.471007 -0.550198  0.671229  0.533038  1.154037  0.946805  0.711769  \n",
       "14 -1.599173 -0.300915  1.293747 -0.033815 -0.202584 -0.093369  0.263313  \n",
       "15 -0.478127  0.279439  1.025036 -1.063386  0.717917  0.774265 -1.281173  \n",
       "16 -1.171574  2.860331 -1.490919 -0.898767  0.956628 -1.149852  1.850084  \n",
       "\n",
       "[5 rows x 26 columns]"
      ]
     },
     "execution_count": 39,
     "metadata": {},
     "output_type": "execute_result"
    }
   ],
   "source": [
    "res_df = pd.concat(residualDf_list, axis = 0)\n",
    "print(res_df.shape)\n",
    "res_df.head()"
   ]
  },
  {
   "cell_type": "code",
   "execution_count": 40,
   "metadata": {},
   "outputs": [],
   "source": [
    "res_df.to_csv('/home/urwa/Documents/Projects/NYU Remote/project/data/residuals/jfk_pca24.csv')"
   ]
  },
  {
   "cell_type": "code",
   "execution_count": null,
   "metadata": {},
   "outputs": [],
   "source": []
  },
  {
   "cell_type": "code",
   "execution_count": null,
   "metadata": {},
   "outputs": [],
   "source": []
  },
  {
   "cell_type": "code",
   "execution_count": null,
   "metadata": {},
   "outputs": [],
   "source": []
  },
  {
   "cell_type": "code",
   "execution_count": null,
   "metadata": {},
   "outputs": [],
   "source": []
  },
  {
   "cell_type": "code",
   "execution_count": null,
   "metadata": {},
   "outputs": [],
   "source": []
  }
 ],
 "metadata": {
  "kernelspec": {
   "display_name": "Python 3",
   "language": "python",
   "name": "python3"
  },
  "language_info": {
   "codemirror_mode": {
    "name": "ipython",
    "version": 3
   },
   "file_extension": ".py",
   "mimetype": "text/x-python",
   "name": "python",
   "nbconvert_exporter": "python",
   "pygments_lexer": "ipython3",
   "version": "3.6.6"
  }
 },
 "nbformat": 4,
 "nbformat_minor": 2
}
