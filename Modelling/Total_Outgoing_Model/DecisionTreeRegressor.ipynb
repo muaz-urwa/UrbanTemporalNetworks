{
 "cells": [
  {
   "cell_type": "code",
   "execution_count": 1,
   "metadata": {},
   "outputs": [],
   "source": [
    "# import packages\n",
    "import numpy as np\n",
    "import matplotlib\n",
    "import os\n",
    "import matplotlib.pyplot as plt\n",
    "import pandas as pd\n",
    "import statsmodels.formula.api as smf\n",
    "from sklearn.metrics import mean_squared_error, r2_score\n",
    "import datetime as dt\n",
    "from statsmodels.tsa.stattools import adfuller\n",
    "import statsmodels.graphics.tsaplots as sg\n",
    "from statsmodels.tsa.stattools import arma_order_select_ic\n",
    "from statsmodels.tsa.arima_model import ARIMA\n",
    "from sklearn.mixture import GaussianMixture\n",
    "from scipy import stats\n",
    "from sklearn.model_selection import cross_val_score\n",
    "from sklearn.tree import DecisionTreeRegressor\n",
    "from sklearn.linear_model import LinearRegression"
   ]
  },
  {
   "cell_type": "code",
   "execution_count": 2,
   "metadata": {},
   "outputs": [],
   "source": [
    "def addLag(dataset, maxlag):\n",
    "    # return the full dataset with lag\n",
    "    LAG = np.arange(1,maxlag + 1)\n",
    "    lagdata = pd.DataFrame([])\n",
    "    for lag in LAG:\n",
    "        varname = 'lag' + str(lag)\n",
    "        lagdata[varname] = dataset['arrival'].loc[maxlag-lag:len(dataset)-lag-1].reset_index(drop = True)\n",
    "    dataset = pd.concat([dataset.loc[maxlag:].reset_index(drop = True), lagdata.reset_index(drop = True)], axis = 1, sort = False)\n",
    "    return dataset"
   ]
  },
  {
   "cell_type": "code",
   "execution_count": 3,
   "metadata": {},
   "outputs": [],
   "source": [
    "FACILITY = ['JFK','LGA','PENN']\n",
    "TRAFFIC = ['vehicle']\n",
    "DATA = {}\n",
    "maxlag = 12\n",
    "for facility in FACILITY:\n",
    "    dataset = pd.read_csv(facility + '.csv')\n",
    "    DATA[facility] = addLag(dataset, maxlag)\n"
   ]
  },
  {
   "cell_type": "code",
   "execution_count": 4,
   "metadata": {},
   "outputs": [
    {
     "name": "stdout",
     "output_type": "stream",
     "text": [
      "['arrival', 'ifmon', 'iftue', 'ifwed', 'ifthu', 'iffri', 'ifsat', 'ifsun', 'if0', 'if1', 'if2', 'if3', 'if4', 'if5', 'if6', 'if7', 'if8', 'if9', 'if10', 'if11', 'if12', 'if13', 'if14', 'if15', 'if16', 'if17', 'if18', 'if19', 'if20', 'if21', 'if22', 'if23', 'maxtemp', 'mintemp', 'avgtemp', 'departure', 'hdd', 'cdd', 'participation', 'newsnow', 'snowdepth', 'ifSnow', 'lag1', 'lag2', 'lag3', 'lag4', 'lag5', 'lag6', 'lag7', 'lag8', 'lag9', 'lag10', 'lag11', 'lag12']\n",
      "['arrival', 'ifmon', 'iftue', 'ifwed', 'ifthu', 'iffri', 'ifsat', 'ifsun', 'if0', 'if1', 'if2', 'if3', 'if4', 'if5', 'if6', 'if7', 'if8', 'if9', 'if10', 'if11', 'if12', 'if13', 'if14', 'if15', 'if16', 'if17', 'if18', 'if19', 'if20', 'if21', 'if22', 'if23', 'maxtemp', 'mintemp', 'avgtemp', 'departure', 'hdd', 'cdd', 'participation', 'newsnow', 'snowdepth', 'ifSnow', 'lag1', 'lag2', 'lag3', 'lag4', 'lag5', 'lag6', 'lag7', 'lag8', 'lag9', 'lag10', 'lag11', 'lag12']\n",
      "['arrival', 'ifmon', 'iftue', 'ifwed', 'ifthu', 'iffri', 'ifsat', 'ifsun', 'if0', 'if1', 'if2', 'if3', 'if4', 'if5', 'if6', 'if7', 'if8', 'if9', 'if10', 'if11', 'if12', 'if13', 'if14', 'if15', 'if16', 'if17', 'if18', 'if19', 'if20', 'if21', 'if22', 'if23', 'maxtemp', 'mintemp', 'avgtemp', 'departure', 'hdd', 'cdd', 'participation', 'newsnow', 'snowdepth', 'ifSnow', 'lag1', 'lag2', 'lag3', 'lag4', 'lag5', 'lag6', 'lag7', 'lag8', 'lag9', 'lag10', 'lag11', 'lag12']\n",
      "JFK\n",
      "0.6312791179251321\n",
      "LGA\n",
      "0.8051732535385338\n",
      "PENN\n",
      "0.6443073479078347\n",
      "JFK\n",
      "0.7941701855065635\n",
      "LGA\n",
      "0.868926526524957\n",
      "PENN\n",
      "0.708499085158504\n"
     ]
    }
   ],
   "source": [
    "LINEAR_REGRESSOR = {}\n",
    "DECISIONTREE_REGRESSOR = {}\n",
    "DECISIONTREE_CROSS_VAL_SCORE = {}\n",
    "LINEAR_CROSS_VAL_SCORE = {}\n",
    "\n",
    "for facility in FACILITY:\n",
    "    featureData = DATA[facility].drop(['date','yellow','fhv','vehicle'], axis = 1)\n",
    "    targetData = DATA[facility]['vehicle']\n",
    "    # linear regression\n",
    "    feature = featureData.columns.values.tolist()\n",
    "    #print(feature)\n",
    "    featureString = ''\n",
    "    for i in range(0,len(feature)):\n",
    "        featureString = featureString + '+' + feature[i]\n",
    "    linearModel = smf.ols(formula = 'vehicle' + ' ~ ' + featureString, data = DATA[facility]).fit()\n",
    "    # Decision Tree Regressor\n",
    "    DECISIONTREE_CROSS_VAL_SCORE[facility] = cross_val_score(DecisionTreeRegressor(random_state = 0), featureData, targetData, cv = 10)\n",
    "    LINEAR_CROSS_VAL_SCORE[facility] = cross_val_score(LinearRegression(), featureData, targetData, cv = 10)\n",
    "    \n",
    "for key, value in  DECISIONTREE_CROSS_VAL_SCORE.items():\n",
    "    print(key)\n",
    "    print(np.mean(value))\n",
    "for key, value in LINEAR_CROSS_VAL_SCORE.items():\n",
    "    print(key)\n",
    "    print(np.mean(value))"
   ]
  },
  {
   "cell_type": "code",
   "execution_count": null,
   "metadata": {},
   "outputs": [],
   "source": []
  }
 ],
 "metadata": {
  "kernelspec": {
   "display_name": "Python 3",
   "language": "python",
   "name": "python3"
  },
  "language_info": {
   "codemirror_mode": {
    "name": "ipython",
    "version": 3
   },
   "file_extension": ".py",
   "mimetype": "text/x-python",
   "name": "python",
   "nbconvert_exporter": "python",
   "pygments_lexer": "ipython3",
   "version": "3.6.6"
  }
 },
 "nbformat": 4,
 "nbformat_minor": 2
}
