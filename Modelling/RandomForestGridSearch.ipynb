{
 "cells": [
  {
   "cell_type": "code",
   "execution_count": 70,
   "metadata": {},
   "outputs": [],
   "source": [
    "# import packages\n",
    "import numpy as np\n",
    "import matplotlib\n",
    "import os\n",
    "import matplotlib.pyplot as plt\n",
    "import pandas as pd\n",
    "import statsmodels.formula.api as smf\n",
    "from sklearn.metrics import mean_squared_error, r2_score\n",
    "import datetime as dt\n",
    "from statsmodels.tsa.stattools import adfuller\n",
    "import statsmodels.graphics.tsaplots as sg\n",
    "from statsmodels.tsa.stattools import arma_order_select_ic\n",
    "from statsmodels.tsa.arima_model import ARIMA\n",
    "from sklearn.mixture import GaussianMixture\n",
    "from scipy import stats\n",
    "from sklearn.model_selection import cross_val_score\n",
    "from sklearn.tree import DecisionTreeRegressor\n",
    "from sklearn.linear_model import LinearRegression\n",
    "from sklearn.ensemble import RandomForestRegressor\n",
    "from sklearn.model_selection import RandomizedSearchCV\n",
    "\n",
    "import warnings"
   ]
  },
  {
   "cell_type": "code",
   "execution_count": 63,
   "metadata": {},
   "outputs": [],
   "source": [
    "def addLag(dataset, maxlag):\n",
    "    # return the full dataset with lag\n",
    "    LAG = np.arange(1,maxlag + 1)\n",
    "    lagdata = pd.DataFrame([])\n",
    "    for lag in LAG:\n",
    "        varname = 'lag' + str(lag)\n",
    "        lagdata[varname] = dataset['arrival'].loc[maxlag-lag:len(dataset)-lag-1].reset_index(drop = True)\n",
    "    dataset = pd.concat([dataset.loc[maxlag:].reset_index(drop = True), lagdata.reset_index(drop = True)], axis = 1, sort = False)\n",
    "    return dataset"
   ]
  },
  {
   "cell_type": "code",
   "execution_count": 64,
   "metadata": {},
   "outputs": [
    {
     "name": "stdout",
     "output_type": "stream",
     "text": [
      "(8748, 58)\n",
      "(8748, 58)\n",
      "(8748, 58)\n"
     ]
    }
   ],
   "source": [
    "FACILITY = ['JFK','LGA','PENN']\n",
    "TRAFFIC = ['vehicle']\n",
    "DATA = {}\n",
    "maxlag = 12\n",
    "for facility in FACILITY:\n",
    "    dataset = pd.read_csv(facility + '.csv')\n",
    "    DATA[facility] = addLag(dataset, maxlag)\n",
    "    print(DATA[facility].shape)"
   ]
  },
  {
   "cell_type": "markdown",
   "metadata": {},
   "source": [
    "## Baseline Models"
   ]
  },
  {
   "cell_type": "code",
   "execution_count": 65,
   "metadata": {},
   "outputs": [],
   "source": [
    "warnings.simplefilter('ignore')\n",
    "DECISIONTREE_CROSS_VAL_SCORE = {}\n",
    "LINEAR_CROSS_VAL_SCORE = {}\n",
    "RANDFOR_CROSS_VAL_SCORE = {}\n",
    "\n",
    "for facility in FACILITY:\n",
    "    featureData = DATA[facility].drop(['date','yellow','fhv','vehicle'], axis = 1)\n",
    "    targetData = DATA[facility]['vehicle']\n",
    "    # linear regression\n",
    "    feature = featureData.columns.values.tolist()\n",
    "    #print(feature)\n",
    "    featureString = ''\n",
    "    for i in range(0,len(feature)):\n",
    "        featureString = featureString + '+' + feature[i]\n",
    "    linearModel = smf.ols(formula = 'vehicle' + ' ~ ' + featureString, data = DATA[facility]).fit()\n",
    "    # Decision Tree Regressor\n",
    "    DECISIONTREE_CROSS_VAL_SCORE[facility] = cross_val_score(DecisionTreeRegressor(random_state = 0), featureData, targetData, cv = 10)\n",
    "    RANDFOR_CROSS_VAL_SCORE[facility] = cross_val_score(RandomForestRegressor(random_state = 0), featureData, targetData, cv = 10)\n",
    "    LINEAR_CROSS_VAL_SCORE[facility] = cross_val_score(LinearRegression(), featureData, targetData, cv = 10)"
   ]
  },
  {
   "cell_type": "code",
   "execution_count": 66,
   "metadata": {},
   "outputs": [],
   "source": [
    "resultDictList = []\n",
    "for key, value in  DECISIONTREE_CROSS_VAL_SCORE.items():\n",
    "    res = {'model':'Decision Tree', 'Station':key, 'R_sqaure':np.mean(value)}\n",
    "    resultDictList.append(res)\n",
    "for key, value in  LINEAR_CROSS_VAL_SCORE.items():\n",
    "    res = {'model':'Linear Reg', 'Station':key, 'R_sqaure':np.mean(value)}\n",
    "    resultDictList.append(res)\n",
    "for key, value in  RANDFOR_CROSS_VAL_SCORE.items():\n",
    "    res = {'model':'RandomForest', 'Station':key, 'R_sqaure':np.mean(value)}\n",
    "    resultDictList.append(res)\n",
    "baselinesResDf = pd.DataFrame(resultDictList)"
   ]
  },
  {
   "cell_type": "code",
   "execution_count": 67,
   "metadata": {},
   "outputs": [
    {
     "data": {
      "text/html": [
       "<div>\n",
       "<style scoped>\n",
       "    .dataframe tbody tr th:only-of-type {\n",
       "        vertical-align: middle;\n",
       "    }\n",
       "\n",
       "    .dataframe tbody tr th {\n",
       "        vertical-align: top;\n",
       "    }\n",
       "\n",
       "    .dataframe thead th {\n",
       "        text-align: right;\n",
       "    }\n",
       "</style>\n",
       "<table border=\"1\" class=\"dataframe\">\n",
       "  <thead>\n",
       "    <tr style=\"text-align: right;\">\n",
       "      <th></th>\n",
       "      <th>model</th>\n",
       "      <th>Station</th>\n",
       "      <th>R_sqaure</th>\n",
       "    </tr>\n",
       "  </thead>\n",
       "  <tbody>\n",
       "    <tr>\n",
       "      <th>0</th>\n",
       "      <td>Decision Tree</td>\n",
       "      <td>JFK</td>\n",
       "      <td>0.631279</td>\n",
       "    </tr>\n",
       "    <tr>\n",
       "      <th>1</th>\n",
       "      <td>Decision Tree</td>\n",
       "      <td>LGA</td>\n",
       "      <td>0.805173</td>\n",
       "    </tr>\n",
       "    <tr>\n",
       "      <th>2</th>\n",
       "      <td>Decision Tree</td>\n",
       "      <td>PENN</td>\n",
       "      <td>0.644307</td>\n",
       "    </tr>\n",
       "    <tr>\n",
       "      <th>3</th>\n",
       "      <td>Linear Reg</td>\n",
       "      <td>JFK</td>\n",
       "      <td>0.794170</td>\n",
       "    </tr>\n",
       "    <tr>\n",
       "      <th>4</th>\n",
       "      <td>Linear Reg</td>\n",
       "      <td>LGA</td>\n",
       "      <td>0.868927</td>\n",
       "    </tr>\n",
       "    <tr>\n",
       "      <th>5</th>\n",
       "      <td>Linear Reg</td>\n",
       "      <td>PENN</td>\n",
       "      <td>0.708499</td>\n",
       "    </tr>\n",
       "    <tr>\n",
       "      <th>6</th>\n",
       "      <td>RandomForest</td>\n",
       "      <td>JFK</td>\n",
       "      <td>0.798336</td>\n",
       "    </tr>\n",
       "    <tr>\n",
       "      <th>7</th>\n",
       "      <td>RandomForest</td>\n",
       "      <td>LGA</td>\n",
       "      <td>0.884615</td>\n",
       "    </tr>\n",
       "    <tr>\n",
       "      <th>8</th>\n",
       "      <td>RandomForest</td>\n",
       "      <td>PENN</td>\n",
       "      <td>0.795598</td>\n",
       "    </tr>\n",
       "  </tbody>\n",
       "</table>\n",
       "</div>"
      ],
      "text/plain": [
       "           model Station  R_sqaure\n",
       "0  Decision Tree     JFK  0.631279\n",
       "1  Decision Tree     LGA  0.805173\n",
       "2  Decision Tree    PENN  0.644307\n",
       "3     Linear Reg     JFK  0.794170\n",
       "4     Linear Reg     LGA  0.868927\n",
       "5     Linear Reg    PENN  0.708499\n",
       "6   RandomForest     JFK  0.798336\n",
       "7   RandomForest     LGA  0.884615\n",
       "8   RandomForest    PENN  0.795598"
      ]
     },
     "execution_count": 67,
     "metadata": {},
     "output_type": "execute_result"
    }
   ],
   "source": [
    "pd.pivot_table(baselinesResDf, index = 'model', columns = 'Station', values = 'R_sqaure')"
   ]
  },
  {
   "cell_type": "code",
   "execution_count": 68,
   "metadata": {},
   "outputs": [
    {
     "data": {
      "text/plain": [
       "<matplotlib.axes._subplots.AxesSubplot at 0x7fa679ee3b00>"
      ]
     },
     "execution_count": 68,
     "metadata": {},
     "output_type": "execute_result"
    },
    {
     "data": {
      "text/plain": [
       "<Figure size 1080x1080 with 0 Axes>"
      ]
     },
     "metadata": {},
     "output_type": "display_data"
    },
    {
     "data": {
      "image/png": "[encoded data removed]",
      "text/plain": [
       "<Figure size 1080x432 with 1 Axes>"
      ]
     },
     "metadata": {
      "needs_background": "light"
     },
     "output_type": "display_data"
    }
   ],
   "source": [
    "plt.figure(figsize=(15,15))\n",
    "pd.pivot_table(baselinesResDf, index = 'Station', columns = 'model', values \n",
    "= 'R_sqaure').plot(kind = 'bar', figsize=(15,6))"
   ]
  },
  {
   "cell_type": "markdown",
   "metadata": {},
   "source": [
    "## Random Grid Search for Hyper param tuning"
   ]
  },
  {
   "cell_type": "code",
   "execution_count": 76,
   "metadata": {},
   "outputs": [
    {
     "name": "stdout",
     "output_type": "stream",
     "text": [
      "{'n_estimators': [1, 112, 223, 334, 445, 556, 667, 778, 889, 1000], 'max_features': ['auto', 'sqrt'], 'max_depth': [10, 20, 30, 40, 50, 60, 70, 80, 90, 100, 110, None], 'min_samples_split': [2, 5, 10], 'min_samples_leaf': [1, 2, 4], 'bootstrap': [True, False]}\n"
     ]
    }
   ],
   "source": [
    "# Number of trees in random forest\n",
    "n_estimators = [int(x) for x in np.linspace(start = 1, stop = 1000, num = 10)]\n",
    "# Number of features to consider at every split\n",
    "max_features = ['auto', 'sqrt']\n",
    "# Maximum number of levels in tree\n",
    "max_depth = [int(x) for x in np.linspace(10, 110, num = 11)]\n",
    "max_depth.append(None)\n",
    "# Minimum number of samples required to split a node\n",
    "min_samples_split = [2, 5, 10]\n",
    "# Minimum number of samples required at each leaf node\n",
    "min_samples_leaf = [1, 2, 4]\n",
    "# Method of selecting samples for training each tree\n",
    "bootstrap = [True, False]\n",
    "# Create the random grid\n",
    "random_grid = {'n_estimators': n_estimators,\n",
    "               'max_features': max_features,\n",
    "               'max_depth': max_depth,\n",
    "               'min_samples_split': min_samples_split,\n",
    "               'min_samples_leaf': min_samples_leaf,\n",
    "               'bootstrap': bootstrap}\n",
    "print(random_grid)"
   ]
  },
  {
   "cell_type": "code",
   "execution_count": 78,
   "metadata": {},
   "outputs": [
    {
     "name": "stdout",
     "output_type": "stream",
     "text": [
      "Fitting 10 folds for each of 100 candidates, totalling 1000 fits\n"
     ]
    },
    {
     "name": "stderr",
     "output_type": "stream",
     "text": [
      "[Parallel(n_jobs=-1)]: Using backend LokyBackend with 16 concurrent workers.\n",
      "[Parallel(n_jobs=-1)]: Done   9 tasks      | elapsed:    3.4s\n",
      "[Parallel(n_jobs=-1)]: Done 130 tasks      | elapsed:  3.5min\n",
      "[Parallel(n_jobs=-1)]: Done 333 tasks      | elapsed: 10.8min\n",
      "[Parallel(n_jobs=-1)]: Done 616 tasks      | elapsed: 19.0min\n",
      "[Parallel(n_jobs=-1)]: Done 1000 out of 1000 | elapsed: 29.5min finished\n"
     ]
    },
    {
     "name": "stdout",
     "output_type": "stream",
     "text": [
      "Fitting 10 folds for each of 100 candidates, totalling 1000 fits\n"
     ]
    },
    {
     "name": "stderr",
     "output_type": "stream",
     "text": [
      "[Parallel(n_jobs=-1)]: Using backend LokyBackend with 16 concurrent workers.\n",
      "[Parallel(n_jobs=-1)]: Done   9 tasks      | elapsed:    2.7s\n",
      "[Parallel(n_jobs=-1)]: Done 130 tasks      | elapsed:  3.1min\n",
      "[Parallel(n_jobs=-1)]: Done 333 tasks      | elapsed:  9.3min\n",
      "[Parallel(n_jobs=-1)]: Done 616 tasks      | elapsed: 16.6min\n",
      "[Parallel(n_jobs=-1)]: Done 1000 out of 1000 | elapsed: 26.4min finished\n"
     ]
    },
    {
     "name": "stdout",
     "output_type": "stream",
     "text": [
      "Fitting 10 folds for each of 100 candidates, totalling 1000 fits\n"
     ]
    },
    {
     "name": "stderr",
     "output_type": "stream",
     "text": [
      "[Parallel(n_jobs=-1)]: Using backend LokyBackend with 16 concurrent workers.\n",
      "[Parallel(n_jobs=-1)]: Done   9 tasks      | elapsed:    2.7s\n",
      "[Parallel(n_jobs=-1)]: Done 130 tasks      | elapsed:  2.7min\n",
      "[Parallel(n_jobs=-1)]: Done 333 tasks      | elapsed:  8.3min\n",
      "[Parallel(n_jobs=-1)]: Done 616 tasks      | elapsed: 14.6min\n",
      "[Parallel(n_jobs=-1)]: Done 1000 out of 1000 | elapsed: 23.3min finished\n"
     ]
    }
   ],
   "source": [
    "warnings.simplefilter('ignore')\n",
    "RANDFOR_PARAM = {}\n",
    "\n",
    "for facility in FACILITY:\n",
    "    featureData = DATA[facility].drop(['date','yellow','fhv','vehicle'], axis = 1)\n",
    "    targetData = DATA[facility]['vehicle']\n",
    "    # linear regression\n",
    "    feature = featureData.columns.values.tolist()\n",
    "    #print(feature)\n",
    "    featureString = ''\n",
    "    for i in range(0,len(feature)):\n",
    "        featureString = featureString + '+' + feature[i]\n",
    "    rf = RandomForestRegressor()\n",
    "    rf_random = RandomizedSearchCV(estimator = rf, param_distributions = random_grid, n_iter = 100, \\\n",
    "                                   cv = 10, verbose=2, random_state=42, n_jobs = -1)\n",
    "    rf_random.fit(featureData, targetData)\n",
    "    RANDFOR_PARAM[facility] = rf_random.best_params_"
   ]
  },
  {
   "cell_type": "code",
   "execution_count": 79,
   "metadata": {},
   "outputs": [
    {
     "data": {
      "text/plain": [
       "{'JFK': {'n_estimators': 667,\n",
       "  'min_samples_split': 5,\n",
       "  'min_samples_leaf': 1,\n",
       "  'max_features': 'sqrt',\n",
       "  'max_depth': 80,\n",
       "  'bootstrap': False},\n",
       " 'LGA': {'n_estimators': 334,\n",
       "  'min_samples_split': 5,\n",
       "  'min_samples_leaf': 1,\n",
       "  'max_features': 'sqrt',\n",
       "  'max_depth': 100,\n",
       "  'bootstrap': False},\n",
       " 'PENN': {'n_estimators': 778,\n",
       "  'min_samples_split': 5,\n",
       "  'min_samples_leaf': 1,\n",
       "  'max_features': 'sqrt',\n",
       "  'max_depth': 70,\n",
       "  'bootstrap': False}}"
      ]
     },
     "execution_count": 79,
     "metadata": {},
     "output_type": "execute_result"
    }
   ],
   "source": [
    "RANDFOR_PARAM"
   ]
  },
  {
   "cell_type": "markdown",
   "metadata": {},
   "source": [
    "## Training the optimized Model"
   ]
  },
  {
   "cell_type": "code",
   "execution_count": 86,
   "metadata": {},
   "outputs": [],
   "source": [
    "optimized_RF = {}\n",
    "for key, value in  RANDFOR_PARAM.items():\n",
    "    rf = RandomForestRegressor(random_state = 0, n_estimators=value['n_estimators'], \n",
    "                               min_samples_split=value['min_samples_split'],\n",
    "                               min_samples_leaf= value['min_samples_leaf'], \n",
    "                               max_features= value['max_features'],\n",
    "                               max_depth= value['max_depth'], \n",
    "                               bootstrap= value['bootstrap'])\n",
    "    optimized_RF[key] = rf"
   ]
  },
  {
   "cell_type": "code",
   "execution_count": 88,
   "metadata": {},
   "outputs": [],
   "source": [
    "warnings.simplefilter('ignore')\n",
    "DECISIONTREE_CROSS_VAL_SCORE = {}\n",
    "LINEAR_CROSS_VAL_SCORE = {}\n",
    "RANDFOR_CROSS_VAL_SCORE = {}\n",
    "RANDFOR_OPT_CROSS_VAL_SCORE = {}\n",
    "\n",
    "for facility in FACILITY:\n",
    "    featureData = DATA[facility].drop(['date','yellow','fhv','vehicle'], axis = 1)\n",
    "    targetData = DATA[facility]['vehicle']\n",
    "    # linear regression\n",
    "    feature = featureData.columns.values.tolist()\n",
    "    #print(feature)\n",
    "    featureString = ''\n",
    "    for i in range(0,len(feature)):\n",
    "        featureString = featureString + '+' + feature[i]\n",
    "    linearModel = smf.ols(formula = 'vehicle' + ' ~ ' + featureString, data = DATA[facility]).fit()\n",
    "    # Decision Tree Regressor\n",
    "    DECISIONTREE_CROSS_VAL_SCORE[facility] = cross_val_score(DecisionTreeRegressor(random_state = 0), featureData, targetData, cv = 10)\n",
    "    RANDFOR_CROSS_VAL_SCORE[facility] = cross_val_score(RandomForestRegressor(random_state = 0), featureData, targetData, cv = 10)\n",
    "    RANDFOR_OPT_CROSS_VAL_SCORE[facility] = cross_val_score(optimized_RF[facility], featureData, targetData, cv = 10)\n",
    "    LINEAR_CROSS_VAL_SCORE[facility] = cross_val_score(LinearRegression(), featureData, targetData, cv = 10)"
   ]
  },
  {
   "cell_type": "code",
   "execution_count": 89,
   "metadata": {},
   "outputs": [],
   "source": [
    "resultDictList = []\n",
    "for key, value in  DECISIONTREE_CROSS_VAL_SCORE.items():\n",
    "    res = {'model':'Decision Tree', 'Station':key, 'R_sqaure':np.mean(value)}\n",
    "    resultDictList.append(res)\n",
    "for key, value in  LINEAR_CROSS_VAL_SCORE.items():\n",
    "    res = {'model':'Linear Reg', 'Station':key, 'R_sqaure':np.mean(value)}\n",
    "    resultDictList.append(res)\n",
    "for key, value in  RANDFOR_CROSS_VAL_SCORE.items():\n",
    "    res = {'model':'RandomForest', 'Station':key, 'R_sqaure':np.mean(value)}\n",
    "    resultDictList.append(res)\n",
    "for key, value in  RANDFOR_OPT_CROSS_VAL_SCORE.items():\n",
    "    res = {'model':'RandomForestOpt', 'Station':key, 'R_sqaure':np.mean(value)}\n",
    "    resultDictList.append(res)\n",
    "baselinesResDf = pd.DataFrame(resultDictList)"
   ]
  },
  {
   "cell_type": "code",
   "execution_count": 90,
   "metadata": {},
   "outputs": [
    {
     "data": {
      "text/html": [
       "<div>\n",
       "<style scoped>\n",
       "    .dataframe tbody tr th:only-of-type {\n",
       "        vertical-align: middle;\n",
       "    }\n",
       "\n",
       "    .dataframe tbody tr th {\n",
       "        vertical-align: top;\n",
       "    }\n",
       "\n",
       "    .dataframe thead th {\n",
       "        text-align: right;\n",
       "    }\n",
       "</style>\n",
       "<table border=\"1\" class=\"dataframe\">\n",
       "  <thead>\n",
       "    <tr style=\"text-align: right;\">\n",
       "      <th>Station</th>\n",
       "      <th>JFK</th>\n",
       "      <th>LGA</th>\n",
       "      <th>PENN</th>\n",
       "    </tr>\n",
       "    <tr>\n",
       "      <th>model</th>\n",
       "      <th></th>\n",
       "      <th></th>\n",
       "      <th></th>\n",
       "    </tr>\n",
       "  </thead>\n",
       "  <tbody>\n",
       "    <tr>\n",
       "      <th>Decision Tree</th>\n",
       "      <td>0.631279</td>\n",
       "      <td>0.805173</td>\n",
       "      <td>0.644307</td>\n",
       "    </tr>\n",
       "    <tr>\n",
       "      <th>Linear Reg</th>\n",
       "      <td>0.794170</td>\n",
       "      <td>0.868927</td>\n",
       "      <td>0.708499</td>\n",
       "    </tr>\n",
       "    <tr>\n",
       "      <th>RandomForest</th>\n",
       "      <td>0.798336</td>\n",
       "      <td>0.884615</td>\n",
       "      <td>0.795598</td>\n",
       "    </tr>\n",
       "    <tr>\n",
       "      <th>RandomForestOpt</th>\n",
       "      <td>0.829824</td>\n",
       "      <td>0.901467</td>\n",
       "      <td>0.825059</td>\n",
       "    </tr>\n",
       "  </tbody>\n",
       "</table>\n",
       "</div>"
      ],
      "text/plain": [
       "Station               JFK       LGA      PENN\n",
       "model                                        \n",
       "Decision Tree    0.631279  0.805173  0.644307\n",
       "Linear Reg       0.794170  0.868927  0.708499\n",
       "RandomForest     0.798336  0.884615  0.795598\n",
       "RandomForestOpt  0.829824  0.901467  0.825059"
      ]
     },
     "execution_count": 90,
     "metadata": {},
     "output_type": "execute_result"
    }
   ],
   "source": [
    "pd.pivot_table(baselinesResDf, index = 'model', columns = 'Station', values = 'R_sqaure')"
   ]
  },
  {
   "cell_type": "code",
   "execution_count": 91,
   "metadata": {},
   "outputs": [
    {
     "data": {
      "text/plain": [
       "<matplotlib.axes._subplots.AxesSubplot at 0x7fa681899c18>"
      ]
     },
     "execution_count": 91,
     "metadata": {},
     "output_type": "execute_result"
    },
    {
     "data": {
      "text/plain": [
       "<Figure size 1080x1080 with 0 Axes>"
      ]
     },
     "metadata": {},
     "output_type": "display_data"
    },
    {
     "data": {
      "image/png": "[encoded data removed]",
      "text/plain": [
       "<Figure size 1080x432 with 1 Axes>"
      ]
     },
     "metadata": {
      "needs_background": "light"
     },
     "output_type": "display_data"
    }
   ],
   "source": [
    "plt.figure(figsize=(15,15))\n",
    "pd.pivot_table(baselinesResDf, index = 'Station', columns = 'model', values \n",
    "= 'R_sqaure').plot(kind = 'bar', figsize=(15,6))"
   ]
  },
  {
   "cell_type": "code",
   "execution_count": null,
   "metadata": {},
   "outputs": [],
   "source": []
  }
 ],
 "metadata": {
  "kernelspec": {
   "display_name": "Python 3",
   "language": "python",
   "name": "python3"
  },
  "language_info": {
   "codemirror_mode": {
    "name": "ipython",
    "version": 3
   },
   "file_extension": ".py",
   "mimetype": "text/x-python",
   "name": "python",
   "nbconvert_exporter": "python",
   "pygments_lexer": "ipython3",
   "version": "3.6.6"
  }
 },
 "nbformat": 4,
 "nbformat_minor": 2
}
